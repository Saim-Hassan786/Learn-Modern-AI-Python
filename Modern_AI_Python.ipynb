{
  "nbformat": 4,
  "nbformat_minor": 0,
  "metadata": {
    "colab": {
      "provenance": [],
      "authorship_tag": "ABX9TyNOsLZZpJOnYlU/bvcWJGSk",
      "include_colab_link": true
    },
    "kernelspec": {
      "name": "python3",
      "display_name": "Python 3"
    },
    "language_info": {
      "name": "python"
    }
  },
  "cells": [
    {
      "cell_type": "markdown",
      "metadata": {
        "id": "view-in-github",
        "colab_type": "text"
      },
      "source": [
        "<a href=\"https://colab.research.google.com/github/Saim-Hassan786/Learn-Modern-AI-Python/blob/main/Modern_AI_Python.ipynb\" target=\"_parent\"><img src=\"https://colab.research.google.com/assets/colab-badge.svg\" alt=\"Open In Colab\"/></a>"
      ]
    },
    {
      "cell_type": "markdown",
      "source": [
        "# Python is a high-level programming language that uses interpreter to convert the source code into **bytecodes** and these bytecodes are inturn read by Python VM to execute machine level instructions one step at a time or line by line\n",
        "\n",
        "Python Advantages :\n",
        "\n",
        "- High-Level Language (Easy To Use)\n",
        "- No Need To Take care of Low Level Tasks like Memory, processor etc\n",
        "- Dynamic Language (No Need Of Explicit Typing Required)\n",
        "- Open Source\n",
        "- Large Community Support\n",
        "- OOP Supported\n",
        "- Best for AI and Machine Learning\n",
        "- Large Amount Of Supported libraries i.e pandas, numpy etc.\n",
        "\n",
        "# DataTypes In Python\n",
        "\n",
        "1. Numeric\n",
        "  - Integer\n",
        "  - Float\n",
        "  - Complex\n",
        "\n",
        "2. Dictionary\n",
        "3. Boolean\n",
        "4. Set\n",
        "5. Sequence\n",
        "  - String\n",
        "  - List\n",
        "  - Tuple\n",
        "\n",
        "\n"
      ],
      "metadata": {
        "id": "vXt64G89zzoi"
      }
    },
    {
      "cell_type": "code",
      "execution_count": null,
      "metadata": {
        "id": "qG5t5EmnfKTx",
        "colab": {
          "base_uri": "https://localhost:8080/"
        },
        "outputId": "d5e0804f-4e8b-4557-e0ae-b0b2ce1e1f76"
      },
      "outputs": [
        {
          "output_type": "stream",
          "name": "stdout",
          "text": [
            "<class 'int'>\n",
            "<class 'int'>\n",
            "<class 'int'>\n",
            "<class 'float'>\n",
            "<class 'float'>\n",
            "<class 'float'>\n",
            "<class 'complex'>\n",
            "2.0\n",
            "4.0\n"
          ]
        }
      ],
      "source": [
        "# Numerical\n",
        "\n",
        "# Integer\n",
        "num : int = 5\n",
        "num_2 : int = -34\n",
        "num_3 : int = 0\n",
        "\n",
        "print(type(num))\n",
        "print(type(num))\n",
        "print(type(num))\n",
        "\n",
        "# Float\n",
        "flt : float = 4.5\n",
        "flt_2 : float = -3.5\n",
        "flt_3 : float = 0.0\n",
        "\n",
        "print(type(flt))\n",
        "print(type(flt))\n",
        "print(type(flt))\n",
        "\n",
        "# Complex\n",
        "cmplx : complex = 2 + 4j\n",
        "\n",
        "print(type(cmplx))\n",
        "print(cmplx.real)\n",
        "print(cmplx.imag)"
      ]
    },
    {
      "cell_type": "code",
      "source": [
        "# Boolean\n",
        "is_true : bool = True\n",
        "is_false : bool = False\n",
        "\n",
        "print(type(is_true))\n",
        "print(type(is_false))"
      ],
      "metadata": {
        "colab": {
          "base_uri": "https://localhost:8080/"
        },
        "id": "F4Yk3eX53F5n",
        "outputId": "3dddafff-a3b5-42e4-9b91-b43186ae4700"
      },
      "execution_count": null,
      "outputs": [
        {
          "output_type": "stream",
          "name": "stdout",
          "text": [
            "<class 'bool'>\n",
            "<class 'bool'>\n"
          ]
        }
      ]
    },
    {
      "cell_type": "code",
      "source": [
        "# Sequence\n",
        "\n",
        "# String\n",
        "name : str = \"Python\"\n",
        "name_1 : str = 'Python'\n",
        "name_2 : str = \"\"\"Python\"\"\"\n",
        "name_3 : str = '''Python'''\n",
        "\n",
        "print(type(name))\n",
        "print(type(name_1))\n",
        "print(type(name_2))\n",
        "print(type(name_3))\n",
        "\n",
        "# list\n",
        "my_list : list = [1,23,4,6,77,\"python\",True]\n",
        "print(type(my_list))\n",
        "\n",
        "# tuple\n",
        "my_tuple : tuple = (1,34,67,\"python\",False,3+7j )\n",
        "print(type(my_tuple))\n",
        "\n",
        "# Range\n",
        "range_1 : range = range(10)\n",
        "range_2 : range = range(1,10)\n",
        "range_3 : range = range(1,10,3)\n",
        "\n",
        "print(type(range_1))\n",
        "print(type(range_2))\n",
        "print(type(range_3))\n",
        "print(range_1)\n",
        "print(range_2)\n",
        "print(range_3)\n",
        "print(range_3.start)\n",
        "print(range_3.stop)\n",
        "print(range_3.step)\n",
        "\n",
        "for i in range_3:\n",
        "  print(i)"
      ],
      "metadata": {
        "colab": {
          "base_uri": "https://localhost:8080/"
        },
        "id": "6GLBuOLg3f8E",
        "outputId": "81abc878-2d12-4caa-848f-c0b1fb7ebe5f"
      },
      "execution_count": null,
      "outputs": [
        {
          "output_type": "stream",
          "name": "stdout",
          "text": [
            "<class 'str'>\n",
            "<class 'str'>\n",
            "<class 'str'>\n",
            "<class 'str'>\n",
            "<class 'list'>\n",
            "<class 'tuple'>\n",
            "<class 'range'>\n",
            "<class 'range'>\n",
            "<class 'range'>\n",
            "range(0, 10)\n",
            "range(1, 10)\n",
            "range(1, 10, 3)\n",
            "1\n",
            "10\n",
            "3\n",
            "1\n",
            "4\n",
            "7\n"
          ]
        }
      ]
    },
    {
      "cell_type": "code",
      "source": [
        "# Set\n",
        "my_set :set = {1,3,45,6,2,3,67}\n",
        "print(type(my_set))\n",
        "print(my_set)\n",
        "\n",
        "# FrozenSet\n",
        "my_set_2 : frozenset = frozenset([2,45,2,45,34,77])\n",
        "print(type(my_set_2))\n",
        "print(my_set_2)"
      ],
      "metadata": {
        "colab": {
          "base_uri": "https://localhost:8080/"
        },
        "id": "pjHYwnqv6GO2",
        "outputId": "9c5c1f65-b950-4695-f76b-9a98d663af21"
      },
      "execution_count": null,
      "outputs": [
        {
          "output_type": "stream",
          "name": "stdout",
          "text": [
            "<class 'set'>\n",
            "{1, 2, 67, 3, 6, 45}\n",
            "<class 'frozenset'>\n",
            "frozenset({2, 77, 34, 45})\n"
          ]
        }
      ]
    },
    {
      "cell_type": "code",
      "source": [
        "# Dictionary\n",
        "\n",
        "my_dict : dict = {\"name\":\"Saim\", \"age\" : 24, \"is_married\" : False}\n",
        "print(type(my_dict))\n",
        "print(my_dict)\n",
        "print(my_dict[\"name\"])\n",
        "print(my_dict[\"age\"])\n",
        "print(my_dict.keys())\n",
        "print(my_dict.values())\n",
        "print(my_dict.items())"
      ],
      "metadata": {
        "colab": {
          "base_uri": "https://localhost:8080/"
        },
        "id": "88Wqj3lW_esE",
        "outputId": "d0b12e4f-1314-4a54-da15-3df51be9d5ab"
      },
      "execution_count": null,
      "outputs": [
        {
          "output_type": "stream",
          "name": "stdout",
          "text": [
            "<class 'dict'>\n",
            "{'name': 'Saim', 'age': 24, 'is_married': False}\n",
            "Saim\n",
            "24\n",
            "dict_keys(['name', 'age', 'is_married'])\n",
            "dict_values(['Saim', 24, False])\n",
            "dict_items([('name', 'Saim'), ('age', 24), ('is_married', False)])\n"
          ]
        }
      ]
    },
    {
      "cell_type": "markdown",
      "source": [
        "# Binary Types\n",
        "Binary types are used to handle the binary data that is in the form of raw data, binary files or data exchanged over networks\n",
        "\n",
        "- Bytes : Immutable Sequence of Bytes\n",
        "- ByteArrays : Muttable Sequence Of Bytes"
      ],
      "metadata": {
        "id": "Q1dRB3lEGAzM"
      }
    },
    {
      "cell_type": "code",
      "source": [
        "# Bytes\n",
        "byte : bytes = b\"Python\"\n",
        "print(type(byte))\n",
        "print(byte)\n",
        "\n",
        "# ByteArrays\n",
        "byte_array : bytearray = bytearray(b\"Python\")\n",
        "print(type(byte_array))\n",
        "print(byte_array)\n",
        "print(byte_array[0])\n",
        "byte_array[0] = 66\n",
        "print(byte_array)\n",
        "byte_array_2 : bytearray = bytearray([65,66,67,69])\n",
        "print(byte_array_2.decode())\n",
        "\n",
        "# UTF-8\n",
        "text = \"Hello 😊\"\n",
        "utf_text = text.encode(\"utf-8\")\n",
        "print(utf_text)\n",
        "\n",
        "# MemoryView\n",
        "memory_text : memoryview = memoryview(b\"Saim Hassan\")\n",
        "print(bytes(memory_text[0:5]))\n",
        "print(memory_text[6:])"
      ],
      "metadata": {
        "colab": {
          "base_uri": "https://localhost:8080/"
        },
        "id": "J75cLcz1Agef",
        "outputId": "4ddc029c-8556-4b9e-8323-98a4b6ccc20c"
      },
      "execution_count": null,
      "outputs": [
        {
          "output_type": "stream",
          "name": "stdout",
          "text": [
            "<class 'bytes'>\n",
            "b'Python'\n",
            "<class 'bytearray'>\n",
            "bytearray(b'Python')\n",
            "80\n",
            "bytearray(b'Bython')\n",
            "ABCE\n",
            "b'Hello \\xf0\\x9f\\x98\\x8a'\n",
            "b'Saim '\n",
            "<memory at 0x7e259c43f340>\n"
          ]
        }
      ]
    },
    {
      "cell_type": "markdown",
      "source": [
        "# None Type\n",
        "None is type in python that represents absence of value or simply null object , it is only created once in python environment and it reuses it everytime is required without creating further objects of None."
      ],
      "metadata": {
        "id": "Zuv4RAH8SW4t"
      }
    },
    {
      "cell_type": "code",
      "source": [
        "x: None = None\n",
        "y: None = None\n",
        "z = x\n",
        "\n",
        "print(type(x))\n",
        "print(x is y)\n",
        "print(x is z)"
      ],
      "metadata": {
        "colab": {
          "base_uri": "https://localhost:8080/"
        },
        "id": "ij51-eiKHNRF",
        "outputId": "133761d7-c2e0-4068-fd52-35d530e4a809"
      },
      "execution_count": null,
      "outputs": [
        {
          "output_type": "stream",
          "name": "stdout",
          "text": [
            "<class 'NoneType'>\n",
            "True\n",
            "True\n"
          ]
        }
      ]
    },
    {
      "cell_type": "markdown",
      "source": [
        "# ID Function\n",
        "\n",
        "Id is a function used in python that returns a unique identifier of an object , this unique identifier is a small integer value that is unique to all the objects in existence in your python environment."
      ],
      "metadata": {
        "id": "yZkpmOdfUt6u"
      }
    },
    {
      "cell_type": "code",
      "source": [
        "x : None = None\n",
        "y : None = None\n",
        "z : int = 45\n",
        "a : int = 45\n",
        "b : int = 1000\n",
        "c : int = 1000\n",
        "\n",
        "print(id(x))\n",
        "print(id(y))\n",
        "print(id(z))\n",
        "print(id(a))\n",
        "print(id(b))\n",
        "print(id(c))\n",
        "print(id(x) is id(y))\n",
        "print(id(x) == id(y))\n",
        "print(id(z) == id(a))\n",
        "print(id(z) is id(a))\n",
        "print(z == a)\n",
        "print(z is a)"
      ],
      "metadata": {
        "colab": {
          "base_uri": "https://localhost:8080/"
        },
        "id": "tvmEK5gJTIH6",
        "outputId": "cf8dbfe3-74f0-4291-9791-8919d468fc3a"
      },
      "execution_count": null,
      "outputs": [
        {
          "output_type": "stream",
          "name": "stdout",
          "text": [
            "9695488\n",
            "9695488\n",
            "10759144\n",
            "10759144\n",
            "138700001111312\n",
            "138700001111088\n",
            "False\n",
            "True\n",
            "True\n",
            "False\n",
            "True\n",
            "True\n"
          ]
        }
      ]
    },
    {
      "cell_type": "code",
      "source": [
        "shark_1_age : int = 300\n",
        "shark_2_age : int = 300\n",
        "\n",
        "if shark_1_age == shark_2_age:\n",
        "  print(\"Both the sharks are of same age\")\n",
        "else:\n",
        "  print(\"Both the sharks are of different age\")\n",
        "\n",
        "if id(shark_1_age) == id(shark_2_age):\n",
        "  print(\"Both the sharks are of same Id\")\n",
        "else:\n",
        "  print(\"Both the sharks are of different Id\")"
      ],
      "metadata": {
        "colab": {
          "base_uri": "https://localhost:8080/"
        },
        "id": "GUe2qiqdVXPV",
        "outputId": "7279084d-485f-4d7c-99aa-f3803632f2d3"
      },
      "execution_count": null,
      "outputs": [
        {
          "output_type": "stream",
          "name": "stdout",
          "text": [
            "Both the sharks are of same age\n",
            "Both the sharks are of different Id\n"
          ]
        }
      ]
    },
    {
      "cell_type": "markdown",
      "source": [
        "# Type Casting\n",
        "Type Casting is the process of converting one data type into another data type either implicitely that python renders by itself or explicitely by using functions int(), str(), float() etc."
      ],
      "metadata": {
        "id": "M0u9WqLHas9u"
      }
    },
    {
      "cell_type": "code",
      "source": [
        "x : int = 25\n",
        "y : float = 5.5\n",
        "z : float = x + y\n",
        "print(type(z))\n",
        "print(z)"
      ],
      "metadata": {
        "colab": {
          "base_uri": "https://localhost:8080/"
        },
        "id": "1vlUHhn8Z3XI",
        "outputId": "63ec4ec6-59c8-4f93-aa52-71d790ed1d1a"
      },
      "execution_count": null,
      "outputs": [
        {
          "output_type": "stream",
          "name": "stdout",
          "text": [
            "<class 'float'>\n",
            "30.5\n"
          ]
        }
      ]
    },
    {
      "cell_type": "code",
      "source": [
        "x : int = 25\n",
        "y = str(x)\n",
        "z = float(x)\n",
        "print(type(y))\n",
        "print(type(z))\n",
        "print(id(x))\n",
        "print(id(y))\n",
        "print(id(z))"
      ],
      "metadata": {
        "colab": {
          "base_uri": "https://localhost:8080/"
        },
        "id": "Wo-cz1yrbxE8",
        "outputId": "2fe0d6b0-e040-4996-83ee-e906d0e84809"
      },
      "execution_count": null,
      "outputs": [
        {
          "output_type": "stream",
          "name": "stdout",
          "text": [
            "<class 'str'>\n",
            "<class 'float'>\n",
            "10758504\n",
            "138699998553136\n",
            "138700001114800\n"
          ]
        }
      ]
    },
    {
      "cell_type": "markdown",
      "source": [
        "# Isinstance\n",
        "Isinstance is a python function that checks if the firt argument object is an instance of the second argument class."
      ],
      "metadata": {
        "id": "shxDutViiFAq"
      }
    },
    {
      "cell_type": "code",
      "source": [
        "a : int = 45\n",
        "b : str = \"Python\"\n",
        "c : float = 4.5\n",
        "\n",
        "if isinstance(a,int):\n",
        "  print(\"a is an integer\")\n",
        "else:\n",
        "  print(\"a is not an integer\")\n",
        "\n",
        "if isinstance(b,bool):\n",
        "  print(\"b is a string\")\n",
        "else:\n",
        "  print(\"b is not a string\")\n",
        "\n",
        "if isinstance(c,float):\n",
        "  print(\"c is a float\")\n",
        "else:\n",
        "  print(\"c is not a float\")"
      ],
      "metadata": {
        "colab": {
          "base_uri": "https://localhost:8080/"
        },
        "id": "mN4-7dEncgTB",
        "outputId": "bfffbcc0-cbbf-4808-aefd-a4a3f34dbeb9"
      },
      "execution_count": null,
      "outputs": [
        {
          "output_type": "stream",
          "name": "stdout",
          "text": [
            "a is an integer\n",
            "b is not a string\n",
            "c is a float\n"
          ]
        }
      ]
    },
    {
      "cell_type": "markdown",
      "source": [
        "# Operators And Operands\n",
        "Operaters are operations that are performed on operands.\n",
        "Operators are of 2 types\n",
        " - Unary : Acting on Single Operand\n",
        " - Binary : Acting on double Operands"
      ],
      "metadata": {
        "id": "RR0QqPzHunDH"
      }
    },
    {
      "cell_type": "code",
      "source": [
        "# Unary Operators\n",
        "x : int = 5\n",
        "z : int = -x\n",
        "print(z)\n",
        "\n",
        "a : bool = False\n",
        "b : bool = not a\n",
        "print(b)\n",
        "\n",
        "# Bitwise Not Operator For Binary Data\n",
        "c = 5\n",
        "d = ~ c\n",
        "print(bin(c))\n",
        "print(bin(d))\n",
        "print(c)\n",
        "print(d)\n",
        "\n",
        "# Format In Binary\n",
        "\n",
        "num = 257\n",
        "print(format(num,\"b\"))"
      ],
      "metadata": {
        "colab": {
          "base_uri": "https://localhost:8080/"
        },
        "id": "GsEza3OsivGp",
        "outputId": "f0a40678-99f7-434d-b1b4-aa031a61941f"
      },
      "execution_count": null,
      "outputs": [
        {
          "output_type": "stream",
          "name": "stdout",
          "text": [
            "-5\n",
            "True\n",
            "0b101\n",
            "-0b110\n",
            "5\n",
            "-6\n",
            "100000001\n"
          ]
        }
      ]
    },
    {
      "cell_type": "markdown",
      "source": [
        "# Operators in Python\n",
        " 1. Arithmetic (+, -, *, /, //, **, %)\n",
        " 2. Logical (AND, NOT, OR)\n",
        " 3. Comparison (==, !=, >, <)\n",
        " 4. Assignment (=, +=, -=, *=, /=, //=)"
      ],
      "metadata": {
        "id": "OEETnjwd4137"
      }
    },
    {
      "cell_type": "code",
      "source": [
        "num_1 = 5\n",
        "num_2 = 4\n",
        "\n",
        "# Arithmetic Operators\n",
        "print(num_1 + num_2)\n",
        "print(num_1 - num_2)\n",
        "print(num_1 * num_2)\n",
        "print(num_1 / num_2)\n",
        "print(num_1 // num_2)\n",
        "print(num_1 % num_2)\n",
        "print(num_1 ** num_2)\n",
        "\n",
        "# Logical Operators\n",
        "print(num_1 > num_2 and num_2 < num_1)\n",
        "print(num_1 > num_2 or num_2 < num_1)\n",
        "print(not num_1 > num_2)\n",
        "\n",
        "# Comparison Operators\n",
        "print(num_1 == num_2)\n",
        "print(num_1 != num_2)\n",
        "print(num_1 > num_2)\n",
        "print(num_1 < num_2)\n",
        "num_1 = 5\n",
        "num_2 = 4\n",
        "\n",
        "# Arithmetic Operators\n",
        "print(num_1 + num_2)\n",
        "print(num_1 - num_2)\n",
        "print(num_1 * num_2)\n",
        "print(num_1 / num_2)\n",
        "print(num_1 // num_2)\n",
        "print(num_1 % num_2)\n",
        "print(num_1 ** num_2)\n",
        "\n",
        "# Logical Operators\n",
        "print(num_1 > num_2 and num_2 < num_1)\n",
        "print(num_1 > num_2 or num_2 < num_1)\n",
        "print(not num_1 > num_2)\n",
        "\n",
        "# Comparison Operators\n",
        "print(num_1 == num_2)\n",
        "print(num_1 != num_2)\n",
        "print(num_1 > num_2)\n",
        "print(num_1 < num_2)\n",
        "\n",
        "# Assignment Operators\n",
        "num_1 += num_2\n",
        "print(num_1)\n",
        "num_1 -= num_2\n",
        "print(num_1)\n",
        "num_1 *= num_2\n",
        "print(num_1)\n",
        "num_1 /= num_2\n",
        "print(num_1)\n",
        "num_1 //= num_2\n",
        "print(num_1)\n",
        "num_1 %= num_2\n",
        "print(num_1)\n",
        "num_1 **= num_2\n",
        "print(num_1)"
      ],
      "metadata": {
        "colab": {
          "base_uri": "https://localhost:8080/"
        },
        "id": "wG9QYIHuzwRA",
        "outputId": "3a75cb91-ed2b-4285-9cf3-7883df721220"
      },
      "execution_count": null,
      "outputs": [
        {
          "output_type": "stream",
          "name": "stdout",
          "text": [
            "9\n",
            "1\n",
            "20\n",
            "1.25\n",
            "1\n",
            "1\n",
            "625\n",
            "True\n",
            "True\n",
            "False\n",
            "False\n",
            "True\n",
            "True\n",
            "False\n",
            "9\n",
            "1\n",
            "20\n",
            "1.25\n",
            "1\n",
            "1\n",
            "625\n",
            "True\n",
            "True\n",
            "False\n",
            "False\n",
            "True\n",
            "True\n",
            "False\n",
            "9\n",
            "5\n",
            "20\n",
            "5.0\n",
            "1.0\n",
            "1.0\n",
            "1.0\n"
          ]
        }
      ]
    },
    {
      "cell_type": "markdown",
      "source": [
        "# Walrus Operator\n",
        "It is used for both asssignment and evaluation at the same time with sign   (:=)"
      ],
      "metadata": {
        "id": "nsPnOHTHBAJz"
      }
    },
    {
      "cell_type": "code",
      "source": [
        "if (user_input := input(\"Enter Input \")) and user_input.isdigit():\n",
        "  print(\"Input is Integer\")\n",
        "elif  user_input.isalpha():\n",
        "  print(\"Input is String\")\n",
        "else :\n",
        "  print(\"None is given\")"
      ],
      "metadata": {
        "colab": {
          "base_uri": "https://localhost:8080/"
        },
        "id": "1sFXQrBr_UqO",
        "outputId": "bd93908b-b21a-4771-d65d-7b37222fc147"
      },
      "execution_count": null,
      "outputs": [
        {
          "output_type": "stream",
          "name": "stdout",
          "text": [
            "Enter Input 35\n",
            "Input is Integer\n"
          ]
        }
      ]
    },
    {
      "cell_type": "markdown",
      "source": [
        "# Identity Operators\n",
        " (is) and (is not) operators used to check whether the objects have same memory location or not\n",
        "\n",
        "# Membership Operators\n",
        " (in) and (not in) operators used to check whether an value is in a sequence of list,tuple,dict,set ."
      ],
      "metadata": {
        "id": "RQK-zqg0CunN"
      }
    },
    {
      "cell_type": "code",
      "source": [
        "# Identity Operators\n",
        "list_1 = [2,4,6]\n",
        "list_2 = [2,4,6]\n",
        "list_3 = list_1\n",
        "\n",
        "print(list_1 is list_2)\n",
        "print(list_1 is list_3)\n",
        "print(list_2 is not list_3)\n",
        "\n",
        "# Membership Operators\n",
        "\n",
        "print(2 in list_1)\n",
        "print(3 in list_1)\n",
        "print(2 not in list_1)\n",
        "print(3 not in list_1)"
      ],
      "metadata": {
        "colab": {
          "base_uri": "https://localhost:8080/"
        },
        "id": "DpYyWTJqB-1a",
        "outputId": "ced61951-9a8e-49f8-c82e-6ff887fe7ec1"
      },
      "execution_count": null,
      "outputs": [
        {
          "output_type": "stream",
          "name": "stdout",
          "text": [
            "False\n",
            "True\n",
            "True\n",
            "True\n",
            "False\n",
            "False\n",
            "True\n"
          ]
        }
      ]
    },
    {
      "cell_type": "markdown",
      "source": [
        "# Reserved Keywords\n",
        "Reserved keywords in python are reserved words that have a special meaning and context in the python programming language syntex. Reserved keywords cannot be used as varaible names, function names or class names.\n",
        "\n",
        "# Python Variables\n",
        "Variables in python are used to store data that can be used and manipulated in in the code execution, these can be considered as names that are assigned to a value."
      ],
      "metadata": {
        "id": "EVETb7vvIgBd"
      }
    },
    {
      "cell_type": "code",
      "source": [
        "import keyword\n",
        "print(keyword.kwlist)\n",
        "\n",
        "\n",
        "# del keyword\n",
        "x = 25\n",
        "del(x)"
      ],
      "metadata": {
        "colab": {
          "base_uri": "https://localhost:8080/"
        },
        "id": "XLPW8aqcEuZr",
        "outputId": "6258d50c-c263-4ede-8f37-5482fe6ad17a"
      },
      "execution_count": null,
      "outputs": [
        {
          "output_type": "stream",
          "name": "stdout",
          "text": [
            "['False', 'None', 'True', 'and', 'as', 'assert', 'async', 'await', 'break', 'class', 'continue', 'def', 'del', 'elif', 'else', 'except', 'finally', 'for', 'from', 'global', 'if', 'import', 'in', 'is', 'lambda', 'nonlocal', 'not', 'or', 'pass', 'raise', 'return', 'try', 'while', 'with', 'yield']\n"
          ]
        }
      ]
    },
    {
      "cell_type": "markdown",
      "source": [
        "# String Casting"
      ],
      "metadata": {
        "id": "kg7-hvn0Akv8"
      }
    },
    {
      "cell_type": "code",
      "source": [
        "str1 : str = r\"Hello \\nWorld\"\n",
        "print(str1)\n",
        "\n",
        "str2 : str = \"Hello \\nWorld\"\n",
        "print(str2)\n",
        "\n",
        "str3 : str = \"\"\"Hello\n",
        "World\"\"\"\n",
        "print(str3)\n",
        "\n",
        "str4 : str = \"Hello \\\"World!\\\"\"\n",
        "print(str4)\n",
        "\n",
        "# Unicode Escape Characters(\\u)\n",
        "\n",
        "print(\"Hello World = \" \" \\u0041\")\n",
        "print(\"Hello World = \" \" \\u0042\")\n",
        "print(\"Hello World = \" \" \\u0043\")\n",
        "print(\"Hello World = \" \" \\u0044\")\n",
        "print(\"Hello World = \" \" \\u0045\")\n",
        "\n",
        "# Operations on String Objects\n",
        "\n",
        "# Concatenation\n",
        "str5 : str = \"Hello\" + \" \" + \"World\"\n",
        "print(str5)\n",
        "\n",
        "# Repetition\n",
        "str6 : str = \"Hello\" * 3\n",
        "print(str6)\n",
        "\n",
        "# Indexing\n",
        "str7 : str = \"Hello World\"\n",
        "print(str7[0])\n",
        "print(str7[1])\n",
        "print(str7[2])\n",
        "print(str7[3])\n",
        "print(str7[4])\n",
        "\n",
        "# Slicing\n",
        "str8 : str = \"Hello World\"\n",
        "print(str8[6:])\n",
        "print(str8[1:7])\n",
        "\n",
        "# Length\n",
        "str9 : str = \"Hello World\"\n",
        "print(len(str9))\n",
        "\n",
        "#UpperCase\n",
        "str10 : str = \"Hello World\"\n",
        "print(str10.upper())\n",
        "\n",
        "# LowerCase\n",
        "str11 : str = \"Hello World\"\n",
        "print(str11.lower())"
      ],
      "metadata": {
        "id": "IQOyVaWKK0DF",
        "colab": {
          "base_uri": "https://localhost:8080/"
        },
        "outputId": "1a4897c9-29d8-4eda-8498-02b730479bfb"
      },
      "execution_count": null,
      "outputs": [
        {
          "output_type": "stream",
          "name": "stdout",
          "text": [
            "Hello \\nWorld\n",
            "Hello \n",
            "World\n",
            "Hello\n",
            "World\n",
            "Hello \"World!\"\n",
            "Hello World =  A\n",
            "Hello World =  B\n",
            "Hello World =  C\n",
            "Hello World =  D\n",
            "Hello World =  E\n",
            "Hello World\n",
            "HelloHelloHello\n",
            "H\n",
            "e\n",
            "l\n",
            "l\n",
            "o\n",
            "World\n",
            "ello W\n",
            "11\n",
            "HELLO WORLD\n",
            "hello world\n"
          ]
        }
      ]
    },
    {
      "cell_type": "markdown",
      "source": [
        "# String Methods"
      ],
      "metadata": {
        "id": "i_tr7WGEJPuC"
      }
    },
    {
      "cell_type": "code",
      "source": [
        "# Split , a method that is used to split a string into substrings by a delimiter\n",
        "my_str = \"Hello World\"\n",
        "new_str = my_str.split()\n",
        "print(new_str)\n",
        "\n",
        "my_str1 = \"Hello World\"\n",
        "new_str1 = my_str1.split(\"o\")\n",
        "print(new_str1)\n",
        "\n",
        "my_str2 = \"Hello World\"\n",
        "new_str2 = my_str2.split(\"l\")\n",
        "print(new_str2)\n",
        "\n",
        "# Join , a method to jon a list of strings into a single string\n",
        "my_list = [\"Hello\", \"World\"]\n",
        "string = \",\"\n",
        "new_string = string.join(my_list)\n",
        "print(new_string)\n",
        "\n",
        "my_str = \"Pakistan\"\n",
        "string_2 = \",\"\n",
        "new_string_2 = string_2.join(my_str)\n",
        "print(new_string_2)\n",
        "\n",
        "my_str2 = \"-\"\n",
        "my_list2 = [\"Hello\", \"World\", \"Hello\", \"Pakistan\"]\n",
        "new_str2 = my_str2.join(my_list2)\n",
        "print(new_str2)\n",
        "\n",
        "# Replace , a method that is used to replace a sunbstring from another substring\n",
        "\n",
        "my_str_3 = \"Hello World, Hello Pakistan\"\n",
        "new_str_3 = my_str_3.replace(\"Hello\", \"Asalam u Alaikum\")\n",
        "print(new_str_3)\n",
        "\n",
        "# Find , a method that is used to find the index of a substring in a string, returns -1 if nothing found.\n",
        "my_str_4 = \"Pakistan\"\n",
        "new_str_5 = my_str_4.find(\"t\")\n",
        "print(new_str_5)\n",
        "\n",
        "# Count , a method that is used to get the occurances of a substring in a string\n",
        "my_str_6 = \"Hello World, Hello Pakistan\"\n",
        "new_str_7 = my_str_6.count(\"o\")\n",
        "print(new_str_7)\n"
      ],
      "metadata": {
        "colab": {
          "base_uri": "https://localhost:8080/"
        },
        "id": "sgKhu7D7A-Hx",
        "outputId": "17cb2102-4615-4f9d-cd38-b7eac93586f4"
      },
      "execution_count": null,
      "outputs": [
        {
          "output_type": "stream",
          "name": "stdout",
          "text": [
            "['Hello', 'World']\n",
            "['Hell', ' W', 'rld']\n",
            "['He', '', 'o Wor', 'd']\n",
            "Hello,World\n",
            "P,a,k,i,s,t,a,n\n",
            "Hello-World-Hello-Pakistan\n",
            "Asalam u Alaikum World, Asalam u Alaikum Pakistan\n",
            "5\n",
            "3\n"
          ]
        },
        {
          "output_type": "execute_result",
          "data": {
            "text/plain": [
              "-1"
            ]
          },
          "metadata": {},
          "execution_count": 69
        }
      ]
    },
    {
      "cell_type": "markdown",
      "source": [
        "# Formatting String"
      ],
      "metadata": {
        "id": "3YxsKADY-onD"
      }
    },
    {
      "cell_type": "code",
      "source": [
        "name : str = \"Saim Hassan\"\n",
        "age : int = 25\n",
        "first_letter : str = name[0]\n",
        "weight : float = 80.5536\n",
        "\n",
        "print(\"My name is %s.I am %d years old, my name's first letter is \\\"%c\\\" and my weight is %.2f\"%(name,age,first_letter,weight))\n",
        "print(\"My name is \\\"%s\\\" and my weight is %.3f\"%(name,weight))\n",
        "print(\"Myself \\\"{}\\\" and my age is {}\".format(name,age))\n",
        "print(\"Myself {1} and my name's first letter is {2}\".format(age,name,first_letter))\n",
        "print(f\"My name is {name} and my age is {age}\")"
      ],
      "metadata": {
        "colab": {
          "base_uri": "https://localhost:8080/"
        },
        "id": "ezs-q6ZXJuTH",
        "outputId": "b637b4ce-e1a8-46fe-96f3-55349be7aed4"
      },
      "execution_count": null,
      "outputs": [
        {
          "output_type": "stream",
          "name": "stdout",
          "text": [
            "My name is Saim Hassan.I am 25 years old, my name's first letter is \"S\" and my weight is 80.55\n",
            "My name is \"Saim Hassan\" and my weight is 80.554\n",
            "Myself \"Saim Hassan\" and my age is 25\n",
            "Myself Saim Hassan and my name's first letter is S\n",
            "My name is Saim Hassan and my age is 25\n"
          ]
        }
      ]
    },
    {
      "cell_type": "markdown",
      "source": [
        "# Interning\n",
        "\n",
        "#### **String Literals**\n",
        "String literals are strings enclosed in double quotes written in your code.\n",
        "\n",
        "#### **String Literal Pool**\n",
        "A memory optimization feature in which python stores the string literals in shared memory pool and whenever a string object occurs in a code manytimes python checks its presence in shared memory pool and reuses the existing string rather then creating string object every time.\n",
        "\n",
        "#### **Interning**\n",
        "Interning is the process in which python stores the literal strings in a shared memory pool and the interpreter or compiler checks the pool everytime if the new created string is already present there if it does the interpreter instead of creating a new string object it reuses the reference of already created and saved one in shared memory pool, this enhances speed and memory efficiency."
      ],
      "metadata": {
        "id": "QSvBgDRbWwFO"
      }
    },
    {
      "cell_type": "code",
      "source": [
        "a : str = \"hello\"\n",
        "b : str = \"hello\"\n",
        "print(a is b)\n",
        "\n",
        "a : str = \"hello world\"\n",
        "b : str = \"hello\" + \"world\"\n",
        "print(a is b)\n",
        "\n",
        "# Forced Interning\n",
        "import sys\n",
        "d : str = sys.intern(\"Hello World, I am Saim Hassan Akhter\")\n",
        "e : str = sys.intern(\"Hello World, I am Saim Hassan Akhter\")\n",
        "print(d is e)\n"
      ],
      "metadata": {
        "colab": {
          "base_uri": "https://localhost:8080/"
        },
        "id": "d-ICdRniPixa",
        "outputId": "188f9b1f-f27f-405b-9fcb-82af2431a5b7"
      },
      "execution_count": null,
      "outputs": [
        {
          "output_type": "stream",
          "name": "stdout",
          "text": [
            "True\n",
            "False\n",
            "True\n"
          ]
        }
      ]
    },
    {
      "cell_type": "markdown",
      "source": [
        "# Using Dir()"
      ],
      "metadata": {
        "id": "sUUEuUHAcJSx"
      }
    },
    {
      "cell_type": "code",
      "source": [
        "methods = dir(str())\n",
        "filtered_methods = [method for method in methods if not method.startswith(\"__\")]\n",
        "print(filtered_methods)"
      ],
      "metadata": {
        "colab": {
          "base_uri": "https://localhost:8080/"
        },
        "id": "QToUBr8GYtyn",
        "outputId": "b5b1c904-fa38-429e-cf9e-9f8f7267e2be"
      },
      "execution_count": null,
      "outputs": [
        {
          "output_type": "stream",
          "name": "stdout",
          "text": [
            "['capitalize', 'casefold', 'center', 'count', 'encode', 'endswith', 'expandtabs', 'find', 'format', 'format_map', 'index', 'isalnum', 'isalpha', 'isascii', 'isdecimal', 'isdigit', 'isidentifier', 'islower', 'isnumeric', 'isprintable', 'isspace', 'istitle', 'isupper', 'join', 'ljust', 'lower', 'lstrip', 'maketrans', 'partition', 'removeprefix', 'removesuffix', 'replace', 'rfind', 'rindex', 'rjust', 'rpartition', 'rsplit', 'rstrip', 'split', 'splitlines', 'startswith', 'strip', 'swapcase', 'title', 'translate', 'upper', 'zfill']\n"
          ]
        }
      ]
    },
    {
      "cell_type": "markdown",
      "source": [
        "# String Repetition\n",
        "String repetition is a straightforward way fo creating new string by concatinating multiple copies of the specified string with respect to the number of times specified with * operator.\n"
      ],
      "metadata": {
        "id": "Hy97NCVgrk5B"
      }
    },
    {
      "cell_type": "code",
      "source": [
        "name : str = \"Saim Hassan \"\n",
        "repeat : str = name * 3\n",
        "print(repeat)\n",
        "\n",
        "num : int = 0\n",
        "repeat_2 : str = name * num\n",
        "print(f\"repeat_2 value is '{repeat_2}'\")\n",
        "\n",
        "num_1 = \"*\"\n",
        "for i in range(1,6):\n",
        "  print(num_1 * i)"
      ],
      "metadata": {
        "colab": {
          "base_uri": "https://localhost:8080/"
        },
        "id": "WLz-8NnecVL-",
        "outputId": "bafcb5fc-c8ef-46bf-e3d6-a4f1bf0aaa80"
      },
      "execution_count": null,
      "outputs": [
        {
          "output_type": "stream",
          "name": "stdout",
          "text": [
            "Saim Hassan Saim Hassan Saim Hassan \n",
            "repeat_2 value is ''\n",
            "*\n",
            "**\n",
            "***\n",
            "****\n",
            "*****\n"
          ]
        }
      ]
    },
    {
      "cell_type": "markdown",
      "source": [
        "# String Comparison Operators"
      ],
      "metadata": {
        "id": "c798z97AwZpp"
      }
    },
    {
      "cell_type": "code",
      "source": [
        "string_1 = \"apple\"\n",
        "string_2 = \"banana\"\n",
        "\n",
        "print(ord(\"a\"))\n",
        "print(ord(\"b\"))\n",
        "\n",
        "print(string_1 > string_2)\n",
        "print(string_1 < string_2)\n",
        "print(string_1 == string_2)\n",
        "print(string_1 != string_2)\n",
        "\n",
        "string_3 = \"abc\"\n",
        "string_4 = \"abd\"\n",
        "\n",
        "print(ord(\"c\"))\n",
        "print(ord(\"d\"))\n",
        "\n",
        "print(string_3 > string_4)\n",
        "print(string_3 < string_4)\n",
        "print(string_3 == string_4)\n",
        "print(string_3 != string_4)\n",
        "\n",
        "word = \"mango\"\n",
        "if \"apple\" > word:\n",
        "  print(\"apple is greater than mango\")\n",
        "else:\n",
        "  print(\"apple is less than mango\")"
      ],
      "metadata": {
        "colab": {
          "base_uri": "https://localhost:8080/"
        },
        "id": "15C0YbhDsNGr",
        "outputId": "9dfd3faa-569d-48fd-ef14-d7e5f5148a0a"
      },
      "execution_count": null,
      "outputs": [
        {
          "output_type": "stream",
          "name": "stdout",
          "text": [
            "97\n",
            "98\n",
            "False\n",
            "True\n",
            "False\n",
            "True\n",
            "99\n",
            "100\n",
            "False\n",
            "True\n",
            "False\n",
            "True\n",
            "apple is less than mango\n"
          ]
        }
      ]
    },
    {
      "cell_type": "markdown",
      "source": [
        "# TypeCasting"
      ],
      "metadata": {
        "id": "rKjiFpqs0p-S"
      }
    },
    {
      "cell_type": "code",
      "source": [
        "num = 123\n",
        "float_num = 12.43\n",
        "string_0= \"Hello\"\n",
        "list_0 = [12,34,45,56,\"OpenAI\"]\n",
        "tuple_0 = (2,34,67,34,78,\"Agentic AI\")\n",
        "dict_0 = {\"name\":\"Saim\",\"age\":25}\n",
        "\n",
        "\n",
        "num_str = str(num)\n",
        "float_str = str(float_num)\n",
        "print(type(num_str))\n",
        "print(type(float_str))\n",
        "\n",
        "num_float = float(num)\n",
        "float_int = int(float_num)\n",
        "print(type(num_float))\n",
        "print(type(float_int))\n",
        "\n",
        "list_tuple = tuple(list_0)\n",
        "tuple_list = list(tuple_0)\n",
        "print(type(list_tuple))\n",
        "print(type(tuple_list))\n",
        "\n",
        "dict_list = list(dict_0)\n",
        "list_dict = dict([(\"name\",\"Saim\"),(\"age\",\"25\")])\n",
        "print(dict_list)\n",
        "print(list_dict)\n",
        "print(type(dict_list))\n",
        "print(type(list_dict))\n",
        "\n",
        "comp = complex(num)\n",
        "print(comp)\n",
        "print(type(comp))\n",
        "\n",
        "string_comp = str(comp)\n",
        "print(string_comp)\n",
        "print(type(string_comp))"
      ],
      "metadata": {
        "colab": {
          "base_uri": "https://localhost:8080/"
        },
        "id": "24vGPLl3wpba",
        "outputId": "d449a395-c476-47ae-f6d1-7157dfd92d04"
      },
      "execution_count": null,
      "outputs": [
        {
          "output_type": "stream",
          "name": "stdout",
          "text": [
            "<class 'str'>\n",
            "<class 'str'>\n",
            "<class 'float'>\n",
            "<class 'int'>\n",
            "<class 'tuple'>\n",
            "<class 'list'>\n",
            "['name', 'age']\n",
            "{'name': 'Saim', 'age': '25'}\n",
            "<class 'list'>\n",
            "<class 'dict'>\n",
            "(123+0j)\n",
            "<class 'complex'>\n",
            "(123+0j)\n",
            "<class 'str'>\n"
          ]
        }
      ]
    },
    {
      "cell_type": "markdown",
      "source": [
        "# Control Flow\n",
        "\n",
        "Control flow refers to the order in which the code is executed in a program. In python , if, else and elif statements are used to achieve control flow along with logical and comparison operators."
      ],
      "metadata": {
        "id": "yEgWGbAnGB_N"
      }
    },
    {
      "cell_type": "code",
      "source": [
        "# if : if stament is used to execute the block of code only if the condition is True\n",
        "num = 25\n",
        "if num > 10 :\n",
        "  print(\"Yes the number is greater than 10\")\n",
        "\n",
        "# else : else statement is used to execcute the block of code if the \"if\" condition is False\n",
        "if num > 100 :\n",
        "  print(\"Yes the number is greater than 100\")\n",
        "else :\n",
        "  print(\"No the number is not greater than 100\")\n",
        "\n",
        "# elif statement is used to check the multiple conditions\n",
        "if num > 100 :\n",
        "  print(\"Yes the number is greater than 100\")\n",
        "elif num == 25 :\n",
        "  print(\"Yes the number is equal to 25\")\n",
        "else:\n",
        "  print(\"No the number is not greater than 100\")\n",
        "\n",
        "# Nested if statements : if statments can be nested in other if statements to check the further conditions\n",
        "if num < 100 :\n",
        "  if num > 20 :\n",
        "    print(\"Yes the number is greater than 20\")\n",
        "  else:\n",
        "    print(\"Number is less than 20\")\n",
        "else:\n",
        "  print(\"The number is greater than 100\")"
      ],
      "metadata": {
        "id": "an3h2lx-0wXw",
        "colab": {
          "base_uri": "https://localhost:8080/"
        },
        "outputId": "891032b4-31dc-435d-8561-9c3fc3e829cb"
      },
      "execution_count": null,
      "outputs": [
        {
          "output_type": "stream",
          "name": "stdout",
          "text": [
            "Yes the number is greater than 10\n",
            "No the number is not greater than 100\n",
            "Yes the number is equal to 25\n",
            "Yes the number is greater than 20\n"
          ]
        }
      ]
    },
    {
      "cell_type": "code",
      "source": [
        "def grading():\n",
        "  while True:\n",
        "   marks = input(\"Enter your marks: Or Press 'q' to Quit \")\n",
        "   if marks.isdigit():\n",
        "    marks = int(marks)\n",
        "   elif marks.lower() == 'q':\n",
        "    break\n",
        "   else:\n",
        "    print(\"Invalid input\")\n",
        "    continue\n",
        "   if marks < 0 or marks > 100:\n",
        "    print(\"Invalid marks\")\n",
        "   elif marks >= 90:\n",
        "     print(\"Grade: A\")\n",
        "   elif marks >= 80:\n",
        "     print(\"Grade: B\")\n",
        "   elif marks >= 70:\n",
        "     print(\"Grade: C\")\n",
        "   elif marks >= 60:\n",
        "      print(\"Grade: D\")\n",
        "   else:\n",
        "     print(\"Grade: F\")\n",
        "  print(\"Thanks For Using the Grading System ! \")\n",
        "\n",
        "grade = grading()"
      ],
      "metadata": {
        "colab": {
          "base_uri": "https://localhost:8080/"
        },
        "id": "FI4fCWu1ozTb",
        "outputId": "1c217651-0878-4c05-e79d-30942d4bd512"
      },
      "execution_count": null,
      "outputs": [
        {
          "output_type": "stream",
          "name": "stdout",
          "text": [
            "Enter your marks: Or Press 'q' to Quit 97\n",
            "Grade: A\n",
            "Enter your marks: Or Press 'q' to Quit 86\n",
            "Grade: B\n",
            "Enter your marks: Or Press 'q' to Quit 76\n",
            "Grade: C\n",
            "Enter your marks: Or Press 'q' to Quit 23\n",
            "Grade: F\n",
            "Enter your marks: Or Press 'q' to Quit q\n",
            "Thanks For Using the Grading System ! \n"
          ]
        }
      ]
    },
    {
      "cell_type": "markdown",
      "source": [
        "# Match-Case\n",
        "Match-case is used for structural pattern matching, it provides a more readable and clear alternative of (if, else and elif), match-case syntax works by comparing an expression with multiple patterns."
      ],
      "metadata": {
        "id": "px75xEC8tQe2"
      }
    },
    {
      "cell_type": "code",
      "source": [
        "def match_code(code):\n",
        "  match code:\n",
        "    case 200:\n",
        "      print(\"Ok DONE\")\n",
        "    case 400:\n",
        "      print(\"Bad Request\")\n",
        "    case 404:\n",
        "      print(\"Not Found\")\n",
        "\n",
        "matching_1 = match_code(200)\n",
        "matching_2 = match_code(400)\n",
        "matching_3 = match_code(404)"
      ],
      "metadata": {
        "colab": {
          "base_uri": "https://localhost:8080/"
        },
        "id": "2qQ7dli9pWm0",
        "outputId": "51d2201f-1e95-4eae-db86-3fd88b3b7b6b"
      },
      "execution_count": null,
      "outputs": [
        {
          "output_type": "stream",
          "name": "stdout",
          "text": [
            "Ok DONE\n",
            "Bad Request\n",
            "Not Found\n"
          ]
        }
      ]
    },
    {
      "cell_type": "markdown",
      "source": [
        "# Loops Or Iterations In Python\n",
        "Loops in python are used to execute a block of code for multiple times, there are 2 types of loops in python\n",
        " - For Loop : For loop iterates over a sequence of list, strings or range and executing a block of code for each iteration.\n",
        " - While Loop : While loop is used to execute a block of as long as a condition is True."
      ],
      "metadata": {
        "id": "7cAM5dG8v_Fx"
      }
    },
    {
      "cell_type": "code",
      "source": [
        "fruits : list = [\"Apple\",\"Cherry\",\"Dates\"]\n",
        "words : str = \"Python\"\n",
        "\n",
        "for fruit in fruits:\n",
        "  print(fruit)\n",
        "for word in words:\n",
        "  print(word)\n",
        "\n",
        "number : int = 0\n",
        "while number <=5 :\n",
        "  print(number)\n",
        "  number += 1\n",
        "\n",
        "# Throwaway Variable (_) is a varaible Python convention that we use when we do not plan to use that variable in a code.\n",
        "for _ in range(11):\n",
        "  print(f\"Hello World from Iteration {_}\")"
      ],
      "metadata": {
        "colab": {
          "base_uri": "https://localhost:8080/"
        },
        "id": "w_yCVvTuuQvY",
        "outputId": "e8aaaefa-6fe3-42d4-883f-04625bbf01ca"
      },
      "execution_count": null,
      "outputs": [
        {
          "output_type": "stream",
          "name": "stdout",
          "text": [
            "Apple\n",
            "Cherry\n",
            "Dates\n",
            "P\n",
            "y\n",
            "t\n",
            "h\n",
            "o\n",
            "n\n",
            "0\n",
            "1\n",
            "2\n",
            "3\n",
            "4\n",
            "5\n",
            "Hello World from Iteration 0\n",
            "Hello World from Iteration 1\n",
            "Hello World from Iteration 2\n",
            "Hello World from Iteration 3\n",
            "Hello World from Iteration 4\n",
            "Hello World from Iteration 5\n",
            "Hello World from Iteration 6\n",
            "Hello World from Iteration 7\n",
            "Hello World from Iteration 8\n",
            "Hello World from Iteration 9\n",
            "Hello World from Iteration 10\n"
          ]
        }
      ]
    },
    {
      "cell_type": "markdown",
      "source": [
        "# Break And Continue\n",
        "Python provides 2 keywords 'break' and 'continue' to control the loop.\n",
        "- Break is used to exit the loop immediately.\n",
        "- Continue is used to skip the current iteration and execute the next iteration."
      ],
      "metadata": {
        "id": "fRCYGNeD120B"
      }
    },
    {
      "cell_type": "code",
      "source": [
        "# break\n",
        "for i in range(5):\n",
        "  if i == 3:\n",
        "    print(\"Loop Breaked\")\n",
        "    break\n",
        "  print(i)\n",
        "\n",
        "# continue\n",
        "for j in range(5):\n",
        " if j == 3:\n",
        "    print(f\"Loop Iteration Skiped {i}\")\n",
        "    continue\n",
        " print(j)\n"
      ],
      "metadata": {
        "colab": {
          "base_uri": "https://localhost:8080/"
        },
        "id": "ILHkanUUxWgZ",
        "outputId": "fe8e9b2e-c247-4301-e5bf-124d22b68212"
      },
      "execution_count": null,
      "outputs": [
        {
          "output_type": "stream",
          "name": "stdout",
          "text": [
            "0\n",
            "1\n",
            "2\n",
            "Loop Breaked\n",
            "0\n",
            "1\n",
            "2\n",
            "Loop Iteration Skiped 3\n",
            "4\n"
          ]
        }
      ]
    },
    {
      "cell_type": "markdown",
      "source": [
        "# Nested Loops\n",
        "Nested loops is the process of placing a loop inside another loop, for each interation of the outer loop a whole life cycle iterations of the inner loop is executed."
      ],
      "metadata": {
        "id": "0KrbZ-uE5sjC"
      }
    },
    {
      "cell_type": "code",
      "source": [
        "for outer_loop in range(1,6):\n",
        "  for inner_loop in range(1,6):\n",
        "    print(f\"{outer_loop} * {inner_loop} = {outer_loop * inner_loop}\")\n",
        "  print(\"*\" * 10)"
      ],
      "metadata": {
        "colab": {
          "base_uri": "https://localhost:8080/"
        },
        "id": "32I-5_OR2rB5",
        "outputId": "6f13e2ce-9924-49a7-bd53-ce8c7c8f6122"
      },
      "execution_count": null,
      "outputs": [
        {
          "output_type": "stream",
          "name": "stdout",
          "text": [
            "1 * 1 = 1\n",
            "1 * 2 = 2\n",
            "1 * 3 = 3\n",
            "1 * 4 = 4\n",
            "1 * 5 = 5\n",
            "**********\n",
            "2 * 1 = 2\n",
            "2 * 2 = 4\n",
            "2 * 3 = 6\n",
            "2 * 4 = 8\n",
            "2 * 5 = 10\n",
            "**********\n",
            "3 * 1 = 3\n",
            "3 * 2 = 6\n",
            "3 * 3 = 9\n",
            "3 * 4 = 12\n",
            "3 * 5 = 15\n",
            "**********\n",
            "4 * 1 = 4\n",
            "4 * 2 = 8\n",
            "4 * 3 = 12\n",
            "4 * 4 = 16\n",
            "4 * 5 = 20\n",
            "**********\n",
            "5 * 1 = 5\n",
            "5 * 2 = 10\n",
            "5 * 3 = 15\n",
            "5 * 4 = 20\n",
            "5 * 5 = 25\n",
            "**********\n"
          ]
        }
      ]
    },
    {
      "cell_type": "markdown",
      "source": [
        "# List\n",
        "For sequence types , python has provided list and tuples. List in python is a ordered, indexed, heterogenous, mutable and dynamic sequence of collections or elements."
      ],
      "metadata": {
        "id": "v2CQRguyahkV"
      }
    },
    {
      "cell_type": "code",
      "source": [
        "fruits : list = [\"apple\",\"grapes\",\"banana\"]\n",
        "print(fruits)\n",
        "\n",
        "# Indexing\n",
        "print(fruits[1])\n",
        "print(fruits[0])\n",
        "\n",
        "# Slicing\n",
        "print(fruits[0:2])\n",
        "print(fruits[1:])\n",
        "\n",
        "# Replacing\n",
        "fruits[0] = \"watermelon\"\n",
        "fruits[2] = \"dates\"\n",
        "print(fruits)\n",
        "\n",
        "# extend\n",
        "fruits.extend([\"potato\",\"chilli\",\"tomato\"])\n",
        "print(fruits)\n",
        "\n",
        "# append\n",
        "fruits.append(\"pomegranate\")\n",
        "print(fruits)\n",
        "\n",
        "# remove : it is used to remove the first occurence of the value specified from the list and it retruns none and VALUE ERROR if value is not found.\n",
        "print(fruits.remove(\"dates\"))\n",
        "print(fruits)\n",
        "\n",
        "# pop : it is used to remove the value at the specified index, it returns that value and if no index is specified it removes the alue at the last index.\n",
        "print(fruits.pop())\n",
        "print(fruits)\n",
        "print(fruits.pop(2))\n",
        "print(fruits)"
      ],
      "metadata": {
        "colab": {
          "base_uri": "https://localhost:8080/"
        },
        "id": "p01dlVCXa5bj",
        "outputId": "15363bea-dc79-4c33-cfff-572e83859d9f"
      },
      "execution_count": null,
      "outputs": [
        {
          "output_type": "stream",
          "name": "stdout",
          "text": [
            "['apple', 'grapes', 'banana']\n",
            "grapes\n",
            "apple\n",
            "['apple', 'grapes']\n",
            "['grapes', 'banana']\n",
            "['watermelon', 'grapes', 'dates']\n",
            "['watermelon', 'grapes', 'dates', 'potato', 'chilli', 'tomato']\n",
            "['watermelon', 'grapes', 'dates', 'potato', 'chilli', 'tomato', 'pomegranate']\n",
            "None\n",
            "['watermelon', 'grapes', 'potato', 'chilli', 'tomato', 'pomegranate']\n",
            "pomegranate\n",
            "['watermelon', 'grapes', 'potato', 'chilli', 'tomato']\n",
            "potato\n",
            "['watermelon', 'grapes', 'chilli', 'tomato']\n"
          ]
        }
      ]
    },
    {
      "cell_type": "markdown",
      "source": [
        "# Sorting\n"
      ],
      "metadata": {
        "id": "Q7Nj1bE3h2tC"
      }
    },
    {
      "cell_type": "code",
      "source": [
        "# ascending Sort\n",
        "list_1 : list = [23,45,1,234,1,234,21]\n",
        "list_1.sort()\n",
        "print(list_1)\n",
        "\n",
        "# descending Sort\n",
        "list_1.sort(reverse=True)\n",
        "print(list_1)\n",
        "\n",
        "# Key Length\n",
        "list_2 : list = [\"apple\",\"kiwi\",\"banana\",\"date\"]\n",
        "list_2.sort(key=len)\n",
        "print(list_2)\n",
        "\n",
        "# Last Value\n",
        "list_2.sort(key=lambda word : word[-1])\n",
        "print(list_2)\n",
        "\n",
        "# reverse Sort\n",
        "list_3 : list = [\"apple\",\"kiwi\",\"banana\",\"date\"]\n",
        "list_4 : list = [12,34,1,234,54,2352,453]\n",
        "list_3.reverse()\n",
        "list_4.reverse()\n",
        "print(list_3)\n",
        "print(list_4)"
      ],
      "metadata": {
        "colab": {
          "base_uri": "https://localhost:8080/"
        },
        "id": "W_WgCcxYbDti",
        "outputId": "41d9c4d2-3a28-4b29-aa0d-998cb9460e89"
      },
      "execution_count": null,
      "outputs": [
        {
          "output_type": "stream",
          "name": "stdout",
          "text": [
            "[1, 1, 21, 23, 45, 234, 234]\n",
            "[234, 234, 45, 23, 21, 1, 1]\n",
            "['kiwi', 'date', 'apple', 'banana']\n",
            "['banana', 'date', 'apple', 'kiwi']\n",
            "['date', 'banana', 'kiwi', 'apple']\n",
            "[453, 2352, 54, 234, 1, 34, 12]\n"
          ]
        }
      ]
    },
    {
      "cell_type": "markdown",
      "source": [
        "# List Comprehension\n",
        "List comprehension is a way to create a new list in a concise and more readable way, it is a compact format of creatig new lists from existing lists by applying transformations or conditions on each elements."
      ],
      "metadata": {
        "id": "LisdUITUl7KE"
      }
    },
    {
      "cell_type": "code",
      "source": [
        "list_comp : list = [x**2 for x in range(1,11)]\n",
        "print(list_comp)\n",
        "\n",
        "list_comp_2 : list = [x for x in range(1,11) if x % 2 == 0]\n",
        "print(list_comp_2)\n",
        "\n",
        "list_comp_3 : list = [x**2 for x in [1,2,3,4,5,6] if x > 2]\n",
        "print(list_comp_3)"
      ],
      "metadata": {
        "colab": {
          "base_uri": "https://localhost:8080/"
        },
        "id": "R15hQMUljwYn",
        "outputId": "298af697-edc3-4fc8-da7f-8eade2241e76"
      },
      "execution_count": null,
      "outputs": [
        {
          "output_type": "stream",
          "name": "stdout",
          "text": [
            "[1, 4, 9, 16, 25, 36, 49, 64, 81, 100]\n",
            "[2, 4, 6, 8, 10]\n",
            "[9, 16, 25, 36]\n"
          ]
        }
      ]
    },
    {
      "cell_type": "markdown",
      "source": [
        "# Tuples\n",
        "Tuple is a sequence type in python that is an ordered, immutable sequence of elements. it means that if a tuple is created , its element cannot be removed, added or modified."
      ],
      "metadata": {
        "id": "fAAU4ZCqqkSd"
      }
    },
    {
      "cell_type": "code",
      "source": [
        "list_tuple : tuple = tuple([1,2,4,5,67])\n",
        "print(list_tuple)\n",
        "\n",
        "list_tuple_2 : tuple = tuple([\"apple\",\"banana\",\"kiwi\"])\n",
        "print(list_tuple_2)\n",
        "\n",
        "mixed_tuple : tuple = (12,45,32,True,3.124,\"hello\")\n",
        "print(mixed_tuple)\n",
        "\n",
        "# tuple methods\n",
        "\n",
        "tuple_1 = (1,22,445,56,78,4)\n",
        "tuple_2 = (1,22,445,56,78,4)\n",
        "print(tuple_1[0])\n",
        "print(tuple_1[1:3])\n",
        "print(tuple_1.count(445))\n",
        "print(tuple_1.index(78))\n",
        "print(len(tuple_1))\n",
        "print(tuple_1 * 3)\n",
        "print(tuple_1 + tuple_2)\n",
        "a,b,c,d,e,f = tuple_1\n",
        "print(a,b,c,d,e,f)\n",
        "nested_tuple = (tuple_1,tuple_2)\n",
        "print(nested_tuple)\n"
      ],
      "metadata": {
        "colab": {
          "base_uri": "https://localhost:8080/"
        },
        "id": "E9N48MYYmmNp",
        "outputId": "4ba4b5fd-ce0f-4a84-fc1b-9703d0b6d08c"
      },
      "execution_count": null,
      "outputs": [
        {
          "output_type": "stream",
          "name": "stdout",
          "text": [
            "(1, 2, 4, 5, 67)\n",
            "('apple', 'banana', 'kiwi')\n",
            "(12, 45, 32, True, 3.124, 'hello')\n",
            "1\n",
            "(22, 445)\n",
            "1\n",
            "4\n",
            "6\n",
            "(1, 22, 445, 56, 78, 4, 1, 22, 445, 56, 78, 4, 1, 22, 445, 56, 78, 4)\n",
            "(1, 22, 445, 56, 78, 4, 1, 22, 445, 56, 78, 4)\n",
            "1 22 445 56 78 4\n",
            "((1, 22, 445, 56, 78, 4), (1, 22, 445, 56, 78, 4))\n"
          ]
        }
      ]
    },
    {
      "cell_type": "markdown",
      "source": [
        "# Dictionary\n",
        "Dictionary is a collection of \"Key-Value\" Pair, it is an ordered, mutable, unindexed and non duplicate collection of elements."
      ],
      "metadata": {
        "id": "j5zKSV27xCjp"
      }
    },
    {
      "cell_type": "code",
      "source": [
        "dict_1 : dict = dict(name=\"saim\",age=25,city=\"lahore\")\n",
        "print(dict_1)\n",
        "\n",
        "dict_2 : dict = dict([(\"name\",\"saim\"),(\"age\",25),(\"city\",\"lahore\")])\n",
        "print(dict_2)\n",
        "\n",
        "person : dict = {\n",
        "    \"name\":\"Saim Hassan\",\n",
        "    \"age\" : 25,\n",
        "    \"city\" : \"lahore\"\n",
        "}\n",
        "print(person)\n",
        "\n",
        "# accessing values\n",
        "print(person[\"name\"])\n",
        "print(person[\"age\"])\n",
        "print(person[\"city\"])\n",
        "print(person.get(\"names\",\"Ali\"))\n",
        "print(person.get(\"aged\",27))\n",
        "print(person.get(\"cities\",\"Multan\"))\n",
        "\n",
        "# modifying dict\n",
        "person[\"name\"] = \"Hassan Akhtar\"\n",
        "person[\"age\"] = 26\n",
        "person[\"city\"] = \"Multan\"\n",
        "person[\"email\"] =\"saim@gmail.com\"\n",
        "print(person)\n",
        "\n",
        "# del and pop()\n",
        "del person[\"city\"]\n",
        "print(person)\n",
        "person.pop(\"age\")\n",
        "print(person)\n",
        "person.pop(\"aged\",\"Not Found\")\n",
        "\n",
        "# dict methods\n",
        "print(person.values())\n",
        "print(person.keys())\n",
        "print(person.items())\n",
        "person.update({\"name\":\"Akhtar\",\"age\":28})\n",
        "print(person)\n",
        "person.clear()\n",
        "print(person)"
      ],
      "metadata": {
        "colab": {
          "base_uri": "https://localhost:8080/"
        },
        "id": "BQXwUc-Lsa9W",
        "outputId": "f11e515d-8045-4493-d0ea-b8ccecdd8798"
      },
      "execution_count": null,
      "outputs": [
        {
          "output_type": "stream",
          "name": "stdout",
          "text": [
            "{'name': 'saim', 'age': 25, 'city': 'lahore'}\n",
            "{'name': 'saim', 'age': 25, 'city': 'lahore'}\n",
            "{'name': 'Saim Hassan', 'age': 25, 'city': 'lahore'}\n",
            "Saim Hassan\n",
            "25\n",
            "lahore\n",
            "Ali\n",
            "27\n",
            "Multan\n",
            "{'name': 'Hassan Akhtar', 'age': 26, 'city': 'Multan', 'email': 'saim@gmail.com'}\n",
            "{'name': 'Hassan Akhtar', 'age': 26, 'email': 'saim@gmail.com'}\n",
            "{'name': 'Hassan Akhtar', 'email': 'saim@gmail.com'}\n",
            "dict_values(['Hassan Akhtar', 'saim@gmail.com'])\n",
            "dict_keys(['name', 'email'])\n",
            "dict_items([('name', 'Hassan Akhtar'), ('email', 'saim@gmail.com')])\n",
            "{'name': 'Akhtar', 'email': 'saim@gmail.com', 'age': 28}\n",
            "{}\n"
          ]
        }
      ]
    },
    {
      "cell_type": "markdown",
      "source": [
        "# Iterating Over Dictionary"
      ],
      "metadata": {
        "id": "WZs2u4t23-iL"
      }
    },
    {
      "cell_type": "code",
      "source": [
        "person : dict = {\n",
        "    \"name\":\"Saim Hassan\",\n",
        "    \"age\" : 25,\n",
        "    \"city\" : \"lahore\",\n",
        "    \"city\" : \"Islamabad\"\n",
        "}\n",
        "print(person)\n",
        "\n",
        "for keys in person.keys():\n",
        "  print(keys)\n",
        "\n",
        "for values in person.values():\n",
        "  print(values)\n",
        "\n",
        "for keys,values in person.items():\n",
        "  print(f\"{keys}:{values}\")"
      ],
      "metadata": {
        "colab": {
          "base_uri": "https://localhost:8080/"
        },
        "id": "Q-bmQPARx3Ck",
        "outputId": "e7b12700-2ec9-488f-b57c-b7247fe14da0"
      },
      "execution_count": null,
      "outputs": [
        {
          "output_type": "stream",
          "name": "stdout",
          "text": [
            "{'name': 'Saim Hassan', 'age': 25, 'city': 'Islamabad'}\n",
            "name\n",
            "age\n",
            "city\n",
            "Saim Hassan\n",
            "25\n",
            "Islamabad\n",
            "name:Saim Hassan\n",
            "age:25\n",
            "city:Islamabad\n"
          ]
        }
      ]
    },
    {
      "cell_type": "markdown",
      "source": [
        "# Dict Iteration Example"
      ],
      "metadata": {
        "id": "k_vt6n7P8MQG"
      }
    },
    {
      "cell_type": "code",
      "source": [
        "sentence = \"\"\"\n",
        "**Projected Economy Size of AI:**\n",
        "\n",
        "The projected economy size of AI is significant, with estimates varying depending on the source and methodology. Here are some notable projections:\n",
        "\n",
        "1. **Global AI Market Size:**\n",
        "\t* By 2025:\n",
        "1.5 trillion (Source: PwC)\n",
        "2. **AI-Driven Economic Growth:**\n",
        "\t* By 2025: AI is expected to contribute 10% to global GDP growth (Source: Accenture)\n",
        "\t* By 2030: AI is expected to contribute 14% to global GDP growth (Source: PwC)\n",
        "3. **AI-Generated Revenue:**\n",
        "\t* By 2025: AI is expected to generate\n",
        "33.5 trillion in revenue (Source: McKinsey)\n",
        "4. **Job Market Impact:**\n",
        "\t* By 2025: AI is expected to create 133 million new jobs globally (Source: World Economic Forum)\n",
        "\t* By 2030: AI is expected to automate 30% of current jobs globally (Source: McKinsey)\n",
        "\n",
        "**Industry-Specific Projections:**\n",
        "\n",
        "1. **Healthcare:**\n",
        "\t* By 2025: AI is expected to generate\n",
        "100 billion in revenue (Source: Accenture)\n",
        "3. **Manufacturing:**\n",
        "\t* By 2025: AI is expected to generate\n",
        "20 billion in revenue (Source: MarketsandMarkets)\n",
        "\n",
        "**Regional Projections:**\n",
        "\n",
        "1. **North America:**\n",
        "\t* By 2025: AI is expected to generate\n",
        "50 billion in revenue (Source: IDC)\n",
        "3. **Asia-Pacific:**\n",
        "\t* By 2025: AI is expected to generate $200 billion in revenue (Source: MarketsandMarkets) \"\"\"\n",
        "\n",
        "words = sentence.split()\n",
        "word_count = {}\n",
        "\n",
        "for word in words:\n",
        "  if word in word_count:\n",
        "    word_count[word] += 1\n",
        "  else:\n",
        "    word_count[word] = 1\n",
        "\n",
        "print(word_count)\n",
        "\n",
        "sorted_result = dict(sorted(word_count.items(),key=lambda item: item[1],reverse=True))\n",
        "print(sorted_result)"
      ],
      "metadata": {
        "colab": {
          "base_uri": "https://localhost:8080/"
        },
        "id": "d3Bev8s85hsF",
        "outputId": "38990156-d468-46a4-fd7b-9f23463cd17c"
      },
      "execution_count": null,
      "outputs": [
        {
          "output_type": "stream",
          "name": "stdout",
          "text": [
            "{'**Projected': 1, 'Economy': 1, 'Size': 1, 'of': 3, 'AI:**': 1, 'The': 1, 'projected': 1, 'economy': 1, 'size': 1, 'AI': 11, 'is': 10, 'significant,': 1, 'with': 1, 'estimates': 1, 'varying': 1, 'depending': 1, 'on': 1, 'the': 1, 'source': 1, 'and': 1, 'methodology.': 1, 'Here': 1, 'are': 1, 'some': 1, 'notable': 1, 'projections:': 1, '1.': 3, '**Global': 1, 'Market': 2, 'Size:**': 1, '*': 10, 'By': 10, '2025:': 8, '1.5': 1, 'trillion': 2, '(Source:': 10, 'PwC)': 2, '2.': 1, '**AI-Driven': 1, 'Economic': 2, 'Growth:**': 1, 'expected': 9, 'to': 11, 'contribute': 2, '10%': 1, 'global': 2, 'GDP': 2, 'growth': 2, 'Accenture)': 2, '2030:': 2, '14%': 1, '3.': 3, '**AI-Generated': 1, 'Revenue:**': 1, 'generate': 5, '33.5': 1, 'in': 5, 'revenue': 5, 'McKinsey)': 2, '4.': 1, '**Job': 1, 'Impact:**': 1, 'create': 1, '133': 1, 'million': 1, 'new': 1, 'jobs': 2, 'globally': 2, 'World': 1, 'Forum)': 1, 'automate': 1, '30%': 1, 'current': 1, '**Industry-Specific': 1, 'Projections:**': 2, '**Healthcare:**': 1, '100': 1, 'billion': 4, '**Manufacturing:**': 1, '20': 1, 'MarketsandMarkets)': 2, '**Regional': 1, '**North': 1, 'America:**': 1, '50': 1, 'IDC)': 1, '**Asia-Pacific:**': 1, '$200': 1}\n",
            "{'AI': 11, 'to': 11, 'is': 10, '*': 10, 'By': 10, '(Source:': 10, 'expected': 9, '2025:': 8, 'generate': 5, 'in': 5, 'revenue': 5, 'billion': 4, 'of': 3, '1.': 3, '3.': 3, 'Market': 2, 'trillion': 2, 'PwC)': 2, 'Economic': 2, 'contribute': 2, 'global': 2, 'GDP': 2, 'growth': 2, 'Accenture)': 2, '2030:': 2, 'McKinsey)': 2, 'jobs': 2, 'globally': 2, 'Projections:**': 2, 'MarketsandMarkets)': 2, '**Projected': 1, 'Economy': 1, 'Size': 1, 'AI:**': 1, 'The': 1, 'projected': 1, 'economy': 1, 'size': 1, 'significant,': 1, 'with': 1, 'estimates': 1, 'varying': 1, 'depending': 1, 'on': 1, 'the': 1, 'source': 1, 'and': 1, 'methodology.': 1, 'Here': 1, 'are': 1, 'some': 1, 'notable': 1, 'projections:': 1, '**Global': 1, 'Size:**': 1, '1.5': 1, '2.': 1, '**AI-Driven': 1, 'Growth:**': 1, '10%': 1, '14%': 1, '**AI-Generated': 1, 'Revenue:**': 1, '33.5': 1, '4.': 1, '**Job': 1, 'Impact:**': 1, 'create': 1, '133': 1, 'million': 1, 'new': 1, 'World': 1, 'Forum)': 1, 'automate': 1, '30%': 1, 'current': 1, '**Industry-Specific': 1, '**Healthcare:**': 1, '100': 1, '**Manufacturing:**': 1, '20': 1, '**Regional': 1, '**North': 1, 'America:**': 1, '50': 1, 'IDC)': 1, '**Asia-Pacific:**': 1, '$200': 1}\n"
          ]
        }
      ]
    },
    {
      "cell_type": "markdown",
      "source": [
        "# Nested Dictionaries"
      ],
      "metadata": {
        "id": "nd0vkCfO_2zp"
      }
    },
    {
      "cell_type": "code",
      "source": [
        "persons : dict = {\n",
        "    \"person1\" : {\n",
        "        \"name\" : \"Saim Hassan\",\n",
        "        \"age\" : 25,\n",
        "        \"city\" : \"lahore\"\n",
        "    },\n",
        "    \"person2\" : {\n",
        "        \"name\" : \"Hassan Akhtar\",\n",
        "        \"age\" : 26,\n",
        "        \"city\" : \"Multan\"\n",
        "    },\n",
        "    \"person3\":{\n",
        "        \"name\" : \"Akhtar Ali\",\n",
        "        \"age\" : 27,\n",
        "        \"city\" : \"Islamabad\"\n",
        "    }\n",
        "}\n",
        "print(persons)\n",
        "print(persons[\"person1\"])\n",
        "print(persons[\"person1\"][\"name\"])\n",
        "print(persons[\"person1\"][\"age\"])\n",
        "print(persons[\"person1\"][\"city\"])\n"
      ],
      "metadata": {
        "colab": {
          "base_uri": "https://localhost:8080/"
        },
        "id": "6xkLStH68E1p",
        "outputId": "9123736f-ab08-4542-9198-15190ab0fb97"
      },
      "execution_count": null,
      "outputs": [
        {
          "output_type": "stream",
          "name": "stdout",
          "text": [
            "{'person1': {'name': 'Saim Hassan', 'age': 25, 'city': 'lahore'}, 'person2': {'name': 'Hassan Akhtar', 'age': 26, 'city': 'Multan'}, 'person3': {'name': 'Akhtar Ali', 'age': 27, 'city': 'Islamabad'}}\n",
            "{'name': 'Saim Hassan', 'age': 25, 'city': 'lahore'}\n",
            "Saim Hassan\n",
            "25\n",
            "lahore\n"
          ]
        }
      ]
    },
    {
      "cell_type": "markdown",
      "source": [
        "# Dictionary Comprehension\n",
        "Dict comprehension is a concise and much readable way of creating new dictionary, it a a comoact format of creating new dicts from the existinf one by applying transformation or condition on each element."
      ],
      "metadata": {
        "id": "s939xvqBCOH2"
      }
    },
    {
      "cell_type": "code",
      "source": [
        "centigrade_temp = [0,10,20,30,40,50]\n",
        "fahrenheit_temp = {str((C * 9/5) + 32) + \"f\" for C in centigrade_temp}\n",
        "print(fahrenheit_temp)"
      ],
      "metadata": {
        "colab": {
          "base_uri": "https://localhost:8080/"
        },
        "id": "YRjeT_PSALjh",
        "outputId": "ff7f77b8-9006-4c67-915b-0dccaf58e101"
      },
      "execution_count": null,
      "outputs": [
        {
          "output_type": "stream",
          "name": "stdout",
          "text": [
            "{'86.0f', '68.0f', '122.0f', '104.0f', '32.0f', '50.0f'}\n"
          ]
        }
      ]
    },
    {
      "cell_type": "markdown",
      "source": [
        "# Set\n",
        "Set in python is a sequence type that is unordered,unidexed and mutable collection of elements, in sets each element cannot occur more than once while in lists or tuples it can."
      ],
      "metadata": {
        "id": "flxalWoDOM5a"
      }
    },
    {
      "cell_type": "code",
      "source": [
        "set_1 : set = {12,3,1,32,1,32,45}\n",
        "print(set_1)\n",
        "\n",
        "set_2 = set([12,23,12,45,23,23])\n",
        "print(set_2)\n",
        "\n",
        "set_3 = {}\n",
        "print(type(set_3))\n",
        "\n",
        "set_4 = set()\n",
        "print(type(set_4))\n",
        "\n",
        "# sets can only store immutable or hashables and cannot store unhashables like (dict, list, tuple)\n",
        "set_5 = {12,34,2.34,\"hello\",True,12}\n",
        "print(set_5)"
      ],
      "metadata": {
        "colab": {
          "base_uri": "https://localhost:8080/"
        },
        "id": "MQqNjgLiBmK8",
        "outputId": "ad73b2f1-62f7-4243-d111-8fe74f44f54b"
      },
      "execution_count": null,
      "outputs": [
        {
          "output_type": "stream",
          "name": "stdout",
          "text": [
            "{32, 1, 3, 12, 45}\n",
            "{12, 45, 23}\n",
            "<class 'dict'>\n",
            "<class 'set'>\n",
            "{True, 34, 2.34, 'hello', 12}\n"
          ]
        }
      ]
    },
    {
      "cell_type": "markdown",
      "source": [
        "# Set Methods"
      ],
      "metadata": {
        "id": "SghjeTfHAl4Q"
      }
    },
    {
      "cell_type": "code",
      "source": [
        "# remove\n",
        "set_1 : set = {1,2,3,45,64,34,78,\"A\",True,False}\n",
        "set_1.remove(45)\n",
        "set_1.remove(True)\n",
        "set_1.remove(64)\n",
        "print(set_1)\n",
        "\n",
        "# discard\n",
        "set_1 : set = {1,2,3,45,64,34,78,\"A\",True,False}\n",
        "set_1.discard(False)\n",
        "set_1.discard(34)\n",
        "set_1.discard(12)\n",
        "print(set_1)\n",
        "\n",
        "# difference_update\n",
        "set_1 : set = {1,2,3,45,64,34,78,\"A\",True,False}\n",
        "set_1.difference_update({1,45,34,\"A\"})\n",
        "print(set_1)\n",
        "\n",
        "# add\n",
        "set_1 : set = {1,2,3,45,64,34,78,\"A\",True,False}\n",
        "set_1.add(\"Hello\")\n",
        "set_1.add(12)\n",
        "set_1.add(23)\n",
        "print(set_1)\n",
        "\n",
        "# update\n",
        "set_1 : set = {1,2,3,45,64,34,78,\"A\",True,False}\n",
        "set_1.update({45,34,\"Python\",3.142})\n",
        "print(set_1)\n"
      ],
      "metadata": {
        "colab": {
          "base_uri": "https://localhost:8080/"
        },
        "id": "3fxjcRvTAlf3",
        "outputId": "c6aa91c5-9b05-4211-db21-5765aca96e07"
      },
      "execution_count": null,
      "outputs": [
        {
          "output_type": "stream",
          "name": "stdout",
          "text": [
            "{2, 3, 34, False, 78, 'A'}\n",
            "{64, 1, 2, 3, 45, 78, 'A'}\n",
            "{64, 2, 3, False, 78}\n",
            "{64, 1, 2, 3, 34, False, 12, 45, 78, 'Hello', 'A', 23}\n",
            "{64, 1, 2, 3, 34, False, 'Python', 3.142, 45, 78, 'A'}\n"
          ]
        }
      ]
    },
    {
      "cell_type": "markdown",
      "source": [
        "# Union Method\n",
        "Union method or | Operator is a method or operator in python set types that is used to combine 2 sets into  single set with all the unique items from both sets into the single one that is created."
      ],
      "metadata": {
        "id": "g5h_jUmpFCqI"
      }
    },
    {
      "cell_type": "code",
      "source": [
        "# union\n",
        "set_1 = {1,2,3,4,5}\n",
        "set_2 = {4,5,6,7,8}\n",
        "new_set = set_1.union(set_2)\n",
        "print(new_set)\n",
        "\n",
        "# |Operator\n",
        "set_3 = {1,2,5,23,56,\"python\"}\n",
        "set_4 = {1,34,23,56,\"Python\"}\n",
        "new_set_2 = set_3 | set_4\n",
        "print(new_set_2)"
      ],
      "metadata": {
        "colab": {
          "base_uri": "https://localhost:8080/"
        },
        "id": "Z-Mgym57A-Hx",
        "outputId": "c607f5d8-f8cb-4083-add4-fe0ef05f2624"
      },
      "execution_count": null,
      "outputs": [
        {
          "output_type": "stream",
          "name": "stdout",
          "text": [
            "{1, 2, 3, 4, 5, 6, 7, 8}\n",
            "{'Python', 1, 2, 34, 5, 'python', 23, 56}\n"
          ]
        }
      ]
    },
    {
      "cell_type": "markdown",
      "source": [
        "# Hashing\n",
        "Hashing is a mechanism in computer science that is used to search and find the objects in the computer memory more efficiently and faster.Hasing is only applicable to immutable objects , all the immutable objects come with as hash() method that gives each element a special number that is then memorized by python so that it can easily refer to or search for this element quickly as no duplicates are allowd for hash(), therefore each elements hash number is unique and no matter how large is dataset, it takes equal amount of time or processing cycle to search for any specific element based on their hash numbers.Rehashing can result in re hash assignment of elements which can occur from methods like add/update/remove/discard etc."
      ],
      "metadata": {
        "id": "EimXydeALEJy"
      }
    },
    {
      "cell_type": "markdown",
      "source": [
        "# FrozenSet\n",
        "Frozen set is a immutable, unordered, unindexed sequence or collection of elements, the only difference of setd from frozen set is that frozen sets are immutable and can be used as hashables like as keys in dict or as elements in other sets."
      ],
      "metadata": {
        "id": "RuLVfDgGN8wq"
      }
    },
    {
      "cell_type": "code",
      "source": [
        "set_5 = {1,23,45,2,65,\"hello\"}\n",
        "frozen_set =frozenset(set_5)\n",
        "print(frozen_set)\n",
        "\n",
        "frozen_set_2 = frozenset([1,3,54,23,\"python\"])\n",
        "print(frozen_set_2)"
      ],
      "metadata": {
        "colab": {
          "base_uri": "https://localhost:8080/"
        },
        "id": "9UI8zEGmF4Gj",
        "outputId": "82a018a8-0c61-40b3-d3ef-882bdf94f276"
      },
      "execution_count": null,
      "outputs": [
        {
          "output_type": "stream",
          "name": "stdout",
          "text": [
            "frozenset({65, 2, 'hello', 1, 23, 45})\n",
            "frozenset({1, 3, 'python', 54, 23})\n"
          ]
        }
      ]
    },
    {
      "cell_type": "markdown",
      "source": [
        "# Set Methods"
      ],
      "metadata": {
        "id": "G8n8gM_MXmYS"
      }
    },
    {
      "cell_type": "code",
      "source": [
        "set_1 = {1,2,3,4,5,10,\"python\"}\n",
        "set_2 = {1,2,3,4,5,6,7,8,\"python\"}\n",
        "set_3 = {1,2,3,4,5,6,\"python\"}\n",
        "\n",
        "# difference\n",
        "diff_set = set_1.difference(set_2,set_3)\n",
        "print(diff_set)\n",
        "\n",
        "# intersection\n",
        "inter_set = set_1.intersection(set_2,set_3)\n",
        "print(inter_set)\n",
        "\n",
        "#union\n",
        "union_set = set_1.union(set_2,set_3)\n",
        "print(union_set)\n",
        "\n",
        "# symmetric difference\n",
        "symet_diff_set = set_1.symmetric_difference(set_2)\n",
        "print(symet_diff_set)\n",
        "\n",
        "# isdisjoint\n",
        "disjoint_set = set_1.isdisjoint(set_2)\n",
        "print(disjoint_set)\n",
        "\n",
        "# issuperset\n",
        "super_set = set_1.issuperset(set_2)\n",
        "print(super_set)\n",
        "\n",
        "# issubset\n",
        "sub_set = {1,2,3}.issubset(set_2)\n",
        "print(sub_set)"
      ],
      "metadata": {
        "colab": {
          "base_uri": "https://localhost:8080/"
        },
        "id": "ISHsmdaWOrWp",
        "outputId": "7357ed30-7b94-4323-d7cb-dba35e24e511"
      },
      "execution_count": null,
      "outputs": [
        {
          "output_type": "stream",
          "name": "stdout",
          "text": [
            "{10}\n",
            "{1, 2, 3, 4, 5, 'python'}\n",
            "{1, 2, 3, 4, 5, 6, 7, 8, 10, 'python'}\n",
            "{6, 7, 8, 10}\n",
            "False\n",
            "False\n",
            "True\n"
          ]
        }
      ]
    },
    {
      "cell_type": "markdown",
      "source": [
        "# Garbage Collection\n",
        "Garbage Collection is a memory management mechanism in python that works by using a garbage collector that runs periodically in the backgroung and continuosly clears up the computer memory or space occupied by objects that are no longer being used , this makes memory management much efficient and faster. Whenever an object is created python attaches a reference_counter starting from 1 with it that reference count increases when object is being referenced or used in the program and it decreases to 0 when no longer used so when this refence_count reaches to 0 , garbage collector comes in and frees up the memory occupied by this object."
      ],
      "metadata": {
        "id": "KbGToUQXh1CR"
      }
    },
    {
      "cell_type": "code",
      "source": [
        "# ReferenceCount\n",
        "import sys\n",
        "a = [1,2]\n",
        "print(sys.getrefcount(a))\n",
        "b = a\n",
        "print(sys.getrefcount(a))\n",
        "\n",
        "# GarbageCollector\n",
        "import gc\n",
        "gc.collect()\n",
        "print(gc.get_count())"
      ],
      "metadata": {
        "colab": {
          "base_uri": "https://localhost:8080/"
        },
        "id": "sJkVfinUY4jU",
        "outputId": "dc23c7f4-b199-4fe7-afe6-010b4cb8e449"
      },
      "execution_count": null,
      "outputs": [
        {
          "output_type": "stream",
          "name": "stdout",
          "text": [
            "2\n",
            "3\n",
            "(45, 0, 0)\n"
          ]
        }
      ]
    },
    {
      "cell_type": "markdown",
      "source": [
        "# Module\n",
        "Module in python is a file that contains a python code like functions, Classes,variables and other executable codes that can be reused in a program which provides better readeablity and reuseability of the code.\n",
        "\n",
        "# Function\n",
        "A function in python is a block of organized reusable code that performs a specific and related action and this block of code can be reused in the program again and again.\n",
        "\n",
        "# Function Arguments\n",
        "Function arguments are the values or variables that are passed into a function when it is called."
      ],
      "metadata": {
        "id": "5NbJOZp-gEuL"
      }
    },
    {
      "cell_type": "code",
      "source": [
        "import math\n",
        "print(math.sqrt(25))\n",
        "\n",
        "def name():\n",
        "  print(\"Saim Hassan\")\n",
        "name()\n",
        "\n",
        "def info(name:str,age:int,city:str):\n",
        "  print(\"Name : {} \".format(name))\n",
        "  print(f\"Age : {age}\")\n",
        "  print(f\"City : {city}\")\n",
        "info(\"Saim\",25,\"Lahore\")\n",
        "\n",
        "def details(course,city):\n",
        "  print(f\"Course : {course}\")\n",
        "  print(f\"City : {city}\")\n",
        "details(city=\"Lahore\",course=\"AI\")"
      ],
      "metadata": {
        "id": "Kb3pcbaBhA-k",
        "colab": {
          "base_uri": "https://localhost:8080/"
        },
        "outputId": "391bae56-5dc2-433d-afea-f6c17d2cfef9"
      },
      "execution_count": null,
      "outputs": [
        {
          "output_type": "stream",
          "name": "stdout",
          "text": [
            "5.0\n",
            "Saim Hassan\n",
            "Name : Saim \n",
            "Age : 25\n",
            "City : Lahore\n",
            "Course : AI\n",
            "City : Lahore\n"
          ]
        }
      ]
    },
    {
      "cell_type": "code",
      "source": [
        "# unwraping the arguments by *\n",
        "def my_sum(*num):\n",
        "  print(\"Sum : {}\" .format(sum(num)))\n",
        "my_sum(*[1,2,3,4,5])\n",
        "my_sum(1,2,3,4,5)\n",
        "my_sum(*[2,4,6,7,8,6])\n",
        "\n",
        "# positional arguments by /\n",
        "def postional_args(a,b,c,/,d):\n",
        "  print(f\"Positional-Args : {a*b*c*d}\")\n",
        "postional_args(1,3,5,d=10)\n",
        "\n",
        "# keyword arguments by *\n",
        "def keyword_args(a,b,*,c,d):\n",
        "  print(f\"Keyword-Args : {a+b+c+d}\")\n",
        "keyword_args(10,20,c=30,d=40)\n",
        "\n",
        "# variable length arguments by *\n",
        "def variable_len_args(a,b,*vars):\n",
        "  print(f\"Variable-Len-Args : {a+b+sum(vars)}\")\n",
        "variable_len_args(10,20,30,40,50,60,70,80,90)\n",
        "\n",
        "# Return Statement\n",
        "def add(a,/,*,b,c):\n",
        "  z = a+b+c\n",
        "  return z\n",
        "result = add(10,b=20,c=30)\n",
        "print(result)\n",
        "result = add(2,b=4,c=10)\n",
        "print(result)\n",
        "\n",
        "# Anonymous Function or lambda\n",
        "sqr = lambda x: x**2\n",
        "print(sqr(5))\n",
        "\n",
        "dict_new = {\n",
        "    \"Apple\":3,\n",
        "    \"Dates\": 4,\n",
        "    \"Mango\": 1,\n",
        "    \"Orange\":2\n",
        "}\n",
        "sorted_dict = dict(sorted(dict_new.items(),key=lambda item : item[1]))\n",
        "print(sorted_dict)\n",
        "\n",
        "# unlimited/arbitrary Keyword Arguments by **\n",
        "def arbitrary_keyword_args(**kwargs):\n",
        "  for key,value in kwargs.items():\n",
        "    print(f\"{key} : {value}\")\n",
        "arbitrary_keyword_args(name=\"Saim\",age=25,city=\"Lahore\")"
      ],
      "metadata": {
        "colab": {
          "base_uri": "https://localhost:8080/"
        },
        "id": "bH8810UKg3Cn",
        "outputId": "0043d4f2-200a-466f-8b69-eaa57804f188"
      },
      "execution_count": null,
      "outputs": [
        {
          "output_type": "stream",
          "name": "stdout",
          "text": [
            "Sum : 15\n",
            "Sum : 15\n",
            "Sum : 33\n",
            "Positional-Args : 150\n",
            "Keyword-Args : 100\n",
            "Variable-Len-Args : 450\n",
            "60\n",
            "16\n",
            "25\n",
            "{'Mango': 1, 'Orange': 2, 'Apple': 3, 'Dates': 4}\n",
            "name : Saim\n",
            "age : 25\n",
            "city : Lahore\n"
          ]
        }
      ]
    },
    {
      "cell_type": "markdown",
      "source": [
        "# Generator Function\n",
        "A genrator function is used to iterate over a sequence of values without storing all values in the memory collectively. it instead of returning a single value , it uses a \"yield\" keyword to return a sequence of values one at a time on the fly."
      ],
      "metadata": {
        "id": "hRYd4rFj12Jd"
      }
    },
    {
      "cell_type": "code",
      "source": [
        "# generator func with yield\n",
        "def generator():\n",
        "  yield 1\n",
        "  yield 2\n",
        "  yield 3\n",
        "\n",
        "gen = generator()\n",
        "for _ in gen:\n",
        "  print(_)\n",
        "\n",
        "def generator_1():\n",
        "  num = 0\n",
        "  while True:\n",
        "    yield num\n",
        "    num += 1\n",
        "gen_1 = generator_1()\n",
        "print(next(gen_1))\n",
        "print(next(gen_1))\n",
        "print(next(gen_1))\n",
        "print(next(gen_1))\n",
        "\n",
        "for _ in range(10):\n",
        "  print(next(gen_1))\n",
        "\n",
        "generator_2 = (x*x for x in range(5))\n",
        "print(next(generator_2))\n",
        "print(next(generator_2))\n",
        "print(next(generator_2))\n",
        "print(next(generator_2))\n",
        "print(next(generator_2))\n",
        "\n",
        "# recursive function : a func that calls itself during execution\n",
        "def recursive(num):\n",
        "  if num == 0:\n",
        "    return 1\n",
        "  else:\n",
        "    return num * recursive(num-1)\n",
        "print(recursive(5))"
      ],
      "metadata": {
        "colab": {
          "base_uri": "https://localhost:8080/"
        },
        "id": "JbVff6sDrVEd",
        "outputId": "6f89dbf3-219d-4fa5-e6d8-d93be2a06751"
      },
      "execution_count": null,
      "outputs": [
        {
          "output_type": "stream",
          "name": "stdout",
          "text": [
            "1\n",
            "2\n",
            "3\n",
            "0\n",
            "1\n",
            "2\n",
            "3\n",
            "4\n",
            "5\n",
            "6\n",
            "7\n",
            "8\n",
            "9\n",
            "10\n",
            "11\n",
            "12\n",
            "13\n",
            "0\n",
            "1\n",
            "4\n",
            "9\n",
            "16\n",
            "120\n"
          ]
        }
      ]
    },
    {
      "cell_type": "markdown",
      "source": [
        "# Error Handling\n",
        "Error handling is a core concept in python that is used to write a concise program, it is used to handle the errors smoothly and concisely and ensure that the program does not crash unexpectedly."
      ],
      "metadata": {
        "id": "UaYrmWBcPyAA"
      }
    },
    {
      "cell_type": "code",
      "source": [
        "def divide(a,b):\n",
        "  try:\n",
        "    result = a / b\n",
        "    print(result)\n",
        "  except ZeroDivisionError as z:\n",
        "    print(\"Zero Division Error\",z)\n",
        "  except Exception as e:\n",
        "    print(\"Unexpected Eror\",e)\n",
        "  else:\n",
        "    print(\"Operation Successful\")\n",
        "  finally:\n",
        "    print(\"Performed Your request\")\n",
        "\n",
        "divide(10,2)\n",
        "divide(10,0)\n",
        "divide(10,\"a\")\n",
        "\n",
        "# raise is a keyword that is used in a function to throw an exception and python catches this exception and stops the execution of function\n",
        "def divide(a,b):\n",
        "  if b== 0:\n",
        "    raise ZeroDivisionError(\"Value cannot be Zero\")\n",
        "  return a / b\n",
        "try:\n",
        "  result = divide(10,0)\n",
        "  print(result)\n",
        "except ZeroDivisionError as z:\n",
        "  print(\"Zero Division Error\",z)\n",
        "\n",
        "# Custom Exception Using the Exception Class\n",
        "class NegativeNumbers(Exception):\n",
        "  pass\n",
        "\n",
        "def divide(a,b):\n",
        "  if b < 0:\n",
        "    raise NegativeNumbers(\"Value cannot be Negative\")\n",
        "  return a / b\n",
        "try:\n",
        "  result = divide(10,-2)\n",
        "  print(result)\n",
        "except NegativeNumbers as n:\n",
        "  print(\"Negative Numbers Error\",n)"
      ],
      "metadata": {
        "colab": {
          "base_uri": "https://localhost:8080/"
        },
        "id": "27i6GtKl3SxR",
        "outputId": "83e39f63-739b-40d1-8c69-0cb7ca2a7dab"
      },
      "execution_count": null,
      "outputs": [
        {
          "output_type": "stream",
          "name": "stdout",
          "text": [
            "5.0\n",
            "Operation Successful\n",
            "Performed Your request\n",
            "Zero Division Error division by zero\n",
            "Performed Your request\n",
            "Unexpected Eror unsupported operand type(s) for /: 'int' and 'str'\n",
            "Performed Your request\n",
            "Zero Division Error Value cannot be Zero\n",
            "Negative Numbers Error Value cannot be Negative\n"
          ]
        }
      ]
    },
    {
      "cell_type": "markdown",
      "source": [
        "# File Handling\n",
        "File handling in python is used to write data into files ,ensuring persistant storage.Python has built in methods and functions to write data into files using \"open()\" function."
      ],
      "metadata": {
        "id": "z-3QNnOGsJgW"
      }
    },
    {
      "cell_type": "code",
      "source": [
        "with open(\"data.txt\",\"w\") as file:\n",
        "  file.write(\"Myself Saim Hassan Akhtar\")\n",
        "\n",
        "with open(\"data.txt\",\"a\") as file:\n",
        "  file.write(\"\\nI am from Lahore\")\n",
        "\n",
        "# with open(\"data.txt\",\"r\") as file:\n",
        "#   for content in file.read():\n",
        "#     print(content,end=\"\")\n",
        "\n",
        "lines = [\"\\nI am an AI Engineer\",\"\\nThis is about Modern AI Python\"]\n",
        "with open(\"data.txt\",\"a\") as file:\n",
        "  file.writelines(lines)\n",
        "\n",
        "with open(\"data.txt\",\"r\") as file:\n",
        "  content = file.read()\n",
        "  print(content)\n",
        "  print(file.tell())\n",
        "\n",
        "# A file pointer is an internal marker that keeps tract of the current_position in a file from where next read or write operation will occur.\n",
        "# use seek() to move to desired point\n",
        "# use tell to get the point on which the pointer is present.\n",
        "with open(\"data.txt\",\"r\") as file:\n",
        "  file.seek(11)\n",
        "  print(file.tell())\n",
        "  print(file.read())\n",
        "\n",
        "# readlines is used to read a file line by line and returns a list of lines.\n",
        "with open(\"data.txt\",\"r\") as file:\n",
        "  lines = file.readlines()\n",
        "  print(lines)\n"
      ],
      "metadata": {
        "id": "pECzON73RQMF",
        "colab": {
          "base_uri": "https://localhost:8080/"
        },
        "outputId": "78f8d90d-39cb-476d-8cdb-96c7b3b60220"
      },
      "execution_count": null,
      "outputs": [
        {
          "output_type": "stream",
          "name": "stdout",
          "text": [
            "Myself Saim Hassan Akhtar\n",
            "I am from Lahore\n",
            "I am an AI Engineer\n",
            "This is about Modern AI Python\n",
            "93\n",
            "11\n",
            " Hassan Akhtar\n",
            "I am from Lahore\n",
            "I am an AI Engineer\n",
            "This is about Modern AI Python\n",
            "['Myself Saim Hassan Akhtar\\n', 'I am from Lahore\\n', 'I am an AI Engineer\\n', 'This is about Modern AI Python']\n"
          ]
        }
      ]
    },
    {
      "cell_type": "markdown",
      "source": [
        "# Time, Calender And DateTime Module"
      ],
      "metadata": {
        "id": "sXqvgv0p6yZH"
      }
    },
    {
      "cell_type": "code",
      "source": [
        "import time\n",
        "print(time.time())\n",
        "print(time.gmtime(time.time()))\n",
        "print(time.localtime())\n",
        "print(time.ctime())\n",
        "print(time.asctime(time.localtime(time.time())))\n",
        "\n",
        "import calendar\n",
        "cal = calendar.month(2025,6)\n",
        "print(\"Here is the calendar\")\n",
        "print(cal)\n",
        "\n",
        "import datetime\n",
        "print(datetime.date(2025,6,24))\n",
        "from datetime import date\n",
        "date_1 = date(2025,6,24)\n",
        "print(date_1)\n",
        "print(date_1.year)\n",
        "print(date_1.month)\n",
        "print(date_1.day)\n",
        "\n",
        "import datetime\n",
        "date_time = datetime.datetime.now()\n",
        "print(date_time)\n",
        "print(date_time.year)\n",
        "print(date_time.month)\n",
        "print(date_time.day)\n",
        "print(date_time.hour)\n",
        "print(date_time.minute)\n",
        "print(date_time.second)\n",
        "\n",
        "import datetime\n",
        "date_time_2 = datetime.datetime(2025,6,24)\n",
        "print(date_time.strftime(\"%f\"))\n",
        "print(date_time.strftime(\"%A\"))\n",
        "print(date_time.strftime(\"%B\"))\n",
        "print(date_time.strftime(\"%Y\"))\n",
        "\n",
        "\n",
        "\n"
      ],
      "metadata": {
        "id": "0mi55uittm6i",
        "colab": {
          "base_uri": "https://localhost:8080/"
        },
        "outputId": "5031e64a-0923-4fb0-80c1-ca4452edb9b5"
      },
      "execution_count": null,
      "outputs": [
        {
          "output_type": "stream",
          "name": "stdout",
          "text": [
            "1750754339.0859783\n",
            "time.struct_time(tm_year=2025, tm_mon=6, tm_mday=24, tm_hour=8, tm_min=38, tm_sec=59, tm_wday=1, tm_yday=175, tm_isdst=0)\n",
            "time.struct_time(tm_year=2025, tm_mon=6, tm_mday=24, tm_hour=8, tm_min=38, tm_sec=59, tm_wday=1, tm_yday=175, tm_isdst=0)\n",
            "Tue Jun 24 08:38:59 2025\n",
            "Tue Jun 24 08:38:59 2025\n",
            "Here is the calendar\n",
            "     June 2025\n",
            "Mo Tu We Th Fr Sa Su\n",
            "                   1\n",
            " 2  3  4  5  6  7  8\n",
            " 9 10 11 12 13 14 15\n",
            "16 17 18 19 20 21 22\n",
            "23 24 25 26 27 28 29\n",
            "30\n",
            "\n",
            "2025-06-24\n",
            "2025-06-24\n",
            "2025\n",
            "6\n",
            "24\n",
            "2025-06-24 08:38:59.086830\n",
            "2025\n",
            "6\n",
            "24\n",
            "8\n",
            "38\n",
            "59\n",
            "086830\n",
            "Tuesday\n",
            "June\n",
            "2025\n"
          ]
        }
      ]
    },
    {
      "cell_type": "markdown",
      "source": [
        "# Math Module"
      ],
      "metadata": {
        "id": "ardDpg0-GI76"
      }
    },
    {
      "cell_type": "code",
      "source": [
        "import math\n",
        "\n",
        "print(abs(-10))\n",
        "print(max(1,2,3,4,5,6,7,8,9,10))\n",
        "print(min(1,2,3,4,5,6,7,8,9,10))\n",
        "print(pow(2,3))\n",
        "print(math.cos(0))\n",
        "print(math.sin(90))\n",
        "print(math.tan(90))\n",
        "print(round(12.454664,3))\n",
        "print(math.sqrt(9))\n",
        "print(math.factorial(5))\n",
        "print(math.ceil(4.7))\n",
        "print(math.floor(4.7))\n",
        "print(math.pi)\n",
        "\n",
        "# Not A Number(NaN)\n",
        "x = float(\"Nan\")\n",
        "if math.isnan(x):\n",
        "   print(\"Not a Number\")\n",
        "\n",
        "# Infinity\n",
        "infinity = math.inf\n",
        "print(infinity)\n",
        "print(math.isinf(infinity))\n",
        "print(infinity > 99999999999999999999)"
      ],
      "metadata": {
        "id": "h4HtW8_36_ya",
        "colab": {
          "base_uri": "https://localhost:8080/"
        },
        "outputId": "934720ac-4935-4504-94fa-e12b968dbd72"
      },
      "execution_count": null,
      "outputs": [
        {
          "output_type": "stream",
          "name": "stdout",
          "text": [
            "10\n",
            "10\n",
            "1\n",
            "8\n",
            "1.0\n",
            "0.8939966636005579\n",
            "-1.995200412208242\n",
            "12.455\n",
            "3.0\n",
            "120\n",
            "5\n",
            "4\n",
            "3.141592653589793\n",
            "Not a Number\n",
            "inf\n",
            "True\n",
            "True\n"
          ]
        }
      ]
    },
    {
      "cell_type": "markdown",
      "source": [
        "# Object Oriented Programming (OOP)\n",
        "Object oriented programming is a programming paradigm that organizes the software design around classes and objects rather than functions and logic.An object is an instance of a class which in turn is a blueprint for creating objects or instances."
      ],
      "metadata": {
        "id": "_TnU8CsAUueB"
      }
    },
    {
      "cell_type": "code",
      "source": [
        "# Encapsulation : it is the bundling of all the methods and attributes applied on a data into a single unit called Class and also restricting the access of desired methods or attributes for preventing data manipulation.\n",
        "class Car:\n",
        "  def __init__(self,model,color,speed):\n",
        "    self.model = model\n",
        "    self.color = color\n",
        "    self.__speed = speed\n",
        "\n",
        "  def accelerated(self):\n",
        "    self.__speed += 10\n",
        "\n",
        "  def get_speed(self):\n",
        "    return self.__speed\n",
        "\n",
        "  def get_info(self):\n",
        "    print(f\"Model : {self.model}\")\n",
        "    print(f\"Color : {self.color}\")\n",
        "    print(f\"Speed : {self.__speed}\")\n",
        "\n",
        "# result\n",
        "car = Car(\"Honda\",\"Red\",0)\n",
        "car.accelerated()\n",
        "car.accelerated()\n",
        "car.accelerated()\n",
        "print(car.get_speed())\n",
        "car.get_info()\n",
        "\n",
        "# Abstraction is the process of hiding the complex implementation of data from the user and providing it a high-level methods and attributes that focuses on the work done by the class rather than discribing how it works.\n",
        "class CarDriving():\n",
        "  def __init__(self,model,color):\n",
        "    self.model = model\n",
        "    self.color = color\n",
        "    self._engine_status = False\n",
        "    self._traffic_signal = None\n",
        "    self._idling_time = 0\n",
        "\n",
        "  def _engine_start(self):\n",
        "    self._engine_status = True\n",
        "    self._engine_idling = 0\n",
        "    print(\"Engine Started\")\n",
        "\n",
        "  def _idle_stop_engine(self):\n",
        "    import time\n",
        "    print(\"Engine is idling...\")\n",
        "    for i in range(5):\n",
        "      print(f\"Idling time: {i+1} seconds\")\n",
        "      time.sleep(1)\n",
        "      self._idling_time += 1\n",
        "    if self._idling_time >= 5:\n",
        "          self._engine_status = False\n",
        "          print(\"Engine stopped (idle stop) to save fule.\")\n",
        "\n",
        "  def drive(self):\n",
        "    if self._engine_status and self._traffic_signal == \"red\":\n",
        "      print(f\"You are driving car of {self.model} and of color {self.color} and signal is {self._traffic_signal}\")\n",
        "    elif self._traffic_signal == \"green\":\n",
        "      print(\"Traffic Signal is Red so your car is stopped\")\n",
        "    else:\n",
        "      self._engine_start()\n",
        "      print(f\"You are driving car of model {self.model} and of color {self.color}\")\n",
        "\n",
        "  def set_traffic_signal(self, signal):\n",
        "        self._traffic_signal = signal\n",
        "        if signal == \"red\":\n",
        "            print(f\"Traffic signal turned red. You stopped in a {self.model} and color {self.color}.\")\n",
        "            self._idle_stop_engine()\n",
        "        elif signal == \"green\":\n",
        "            print(f\"Traffic signal turned green. You can drive your {self.model} and color {self.color}.\")\n",
        "            if not self._engine_status:\n",
        "              self._engine_start()\n",
        "\n",
        "  def stop(self):\n",
        "    if self._engine_status:\n",
        "     print(f\"You stopped the {self.model} and color {self.color}.\")\n",
        "     self._idle_stop_engine()\n",
        "    else:\n",
        "        print(f\"The {self.model} with color {self.color} is already stopped.\")\n",
        "\n",
        "# result\n",
        "car = CarDriving(\"Honda\",\"Red\")\n",
        "car.drive()\n",
        "car.set_traffic_signal(\"red\")\n",
        "car.set_traffic_signal(\"green\")\n",
        "car.stop()\n",
        "\n",
        "# Inheritence is the process by which a child class inherit the methods and attributes from the parent class.\n",
        "class Animal:\n",
        "  def __init__(self,name,color):\n",
        "    self.name = name\n",
        "    self.color = color\n",
        "  def eat(self):\n",
        "    print(f\"{self.name} is eating\")\n",
        "  def sleep(self):\n",
        "    print(f\"{self.name} is sleeping\")\n",
        "  def sound(self):\n",
        "    print(f\"{self.name} is making sound\")\n",
        "\n",
        "class Dog(Animal):\n",
        "  def __init__(self,name,color,breed):\n",
        "    super().__init__(name,color)\n",
        "    self.breed = breed\n",
        "\n",
        "  def bark(self):\n",
        "    print(f\"{self.name} is barking\")\n",
        "\n",
        "class Cat(Animal):\n",
        "  def __init__(self,name,color,breed):\n",
        "    super().__init__(name,color)\n",
        "    self.breed = breed\n",
        "\n",
        "  def meow(self):\n",
        "    print(f\"{self.name} is meowing\")\n",
        "\n",
        "# result\n",
        "dog = Dog(\"Johnny\",\"Brown\",\"lebra\")\n",
        "dog.sound()\n",
        "dog.bark()\n",
        "cat = Cat(\"Tom\",\"White\",\"Persian\")\n",
        "cat.sound()\n",
        "cat.meow()\n",
        "\n",
        "# Polymorphism allows the objects of different classes to be treated as the object of the same commen superclass.\n",
        "from abc import ABC , abstractmethod\n",
        "class Animal(ABC):\n",
        "  @abstractmethod\n",
        "  def sound(self):\n",
        "    pass\n",
        "\n",
        "class Dog(Animal):\n",
        "  def sound(self):\n",
        "    print(\"Woof!\")\n",
        "\n",
        "class Cat(Animal):\n",
        "  def sound(self):\n",
        "    print(\"Meow!\")\n",
        "\n",
        "# result\n",
        "dog = Dog()\n",
        "dog.sound()\n",
        "cat = Cat()\n",
        "cat.sound()\n",
        "\n"
      ],
      "metadata": {
        "colab": {
          "base_uri": "https://localhost:8080/"
        },
        "id": "hb_oyrP1Gjuy",
        "outputId": "1dd222cc-cf24-4037-f85f-c200e6ef06db"
      },
      "execution_count": null,
      "outputs": [
        {
          "output_type": "stream",
          "name": "stdout",
          "text": [
            "30\n",
            "Model : Honda\n",
            "Color : Red\n",
            "Speed : 30\n",
            "Engine Started\n",
            "You are driving car of model Honda and of color Red\n",
            "Traffic signal turned red. You stopped in a Honda and color Red.\n",
            "Engine is idling...\n",
            "Idling time: 1 seconds\n",
            "Idling time: 2 seconds\n",
            "Idling time: 3 seconds\n",
            "Idling time: 4 seconds\n",
            "Idling time: 5 seconds\n",
            "Engine stopped (idle stop) to save fule.\n",
            "Traffic signal turned green. You can drive your Honda and color Red.\n",
            "Engine Started\n",
            "You stopped the Honda and color Red.\n",
            "Engine is idling...\n",
            "Idling time: 1 seconds\n",
            "Idling time: 2 seconds\n",
            "Idling time: 3 seconds\n",
            "Idling time: 4 seconds\n",
            "Idling time: 5 seconds\n",
            "Engine stopped (idle stop) to save fule.\n",
            "Johnny is making sound\n",
            "Johnny is barking\n",
            "Tom is making sound\n",
            "Tom is meowing\n",
            "Woof!\n",
            "Meow!\n"
          ]
        }
      ]
    },
    {
      "cell_type": "code",
      "source": [
        "# Class And Instance Attributes\n",
        "class Dog:\n",
        "  species = \"Lebrador\" # Class Attribute\n",
        "\n",
        "  def __init__(self,name,age):\n",
        "    self.name = name # Instance Attribute\n",
        "    self.age = age   # Instance Attribute\n",
        "\n",
        "  def sound(self):\n",
        "    print(\"Woof!\")\n",
        "\n",
        "# result\n",
        "dog1 = Dog(\"Johnny\",3)\n",
        "print(dog1.species)\n",
        "dog1.sound()\n",
        "print(dog1.name)\n",
        "print(dog1.age)\n",
        "dog2 = Dog(\"Tom\",5)\n",
        "print(dog2.species)\n",
        "dog2.sound()\n",
        "print(dog2.name)\n",
        "print(dog2.age)\n",
        "\n",
        "Dog.species = \"German Shepherd\"\n",
        "print(dog1.species)\n",
        "print(dog2.species)\n",
        "\n",
        "dog1.species = \"Bull Dog\"\n",
        "print(dog1.species)\n",
        "print(dog2.species)\n",
        "\n",
        "print(Dog.__dict__)\n",
        "print(dog1.__dict__)\n",
        "print(dog2.__dict__)\n",
        "\n",
        "# Class,Instance And Static Methods\n",
        "class Person:\n",
        "  species = \"Homo Sapiens\"\n",
        "\n",
        "  def __init__(self,name,age):\n",
        "    self.name = name\n",
        "    self.age = age\n",
        "\n",
        "  def instance_method(self):\n",
        "    print(f\"My name is {self.name} and I am {self.age} years old\")\n",
        "\n",
        "  @classmethod\n",
        "  def class_method(cls,new_species):\n",
        "    print(f\"Species has been changed to {new_species}\")\n",
        "    cls.species = new_species\n",
        "\n",
        "  @staticmethod\n",
        "  def static_method_adult(age):\n",
        "    if age > 18:\n",
        "      print(\"You are adult\")\n",
        "    else:\n",
        "      print(\"You are not adult\")\n",
        "\n",
        "\n",
        "# result\n",
        "person1 = Person(\"Saim\",25)\n",
        "print(Person.species)\n",
        "person1.instance_method()\n",
        "person1.static_method_adult(20)\n",
        "Person.class_method(\"Homo Sapien Sapien\")\n",
        "print(person1.species)\n",
        "Person.static_method_adult(17)\n"
      ],
      "metadata": {
        "colab": {
          "base_uri": "https://localhost:8080/"
        },
        "id": "Qxd-D303AVpH",
        "outputId": "02a854d1-59e0-48f0-f102-97f0749a1693"
      },
      "execution_count": null,
      "outputs": [
        {
          "output_type": "stream",
          "name": "stdout",
          "text": [
            "Lebrador\n",
            "Woof!\n",
            "Johnny\n",
            "3\n",
            "Lebrador\n",
            "Woof!\n",
            "Tom\n",
            "5\n",
            "German Shepherd\n",
            "German Shepherd\n",
            "Bull Dog\n",
            "German Shepherd\n",
            "{'__module__': '__main__', 'species': 'German Shepherd', '__init__': <function Dog.__init__ at 0x7f1662443c40>, 'sound': <function Dog.sound at 0x7f16624432e0>, '__dict__': <attribute '__dict__' of 'Dog' objects>, '__weakref__': <attribute '__weakref__' of 'Dog' objects>, '__doc__': None}\n",
            "{'name': 'Johnny', 'age': 3, 'species': 'Bull Dog'}\n",
            "{'name': 'Tom', 'age': 5}\n",
            "Homo Sapiens\n",
            "My name is Saim and I am 25 years old\n",
            "You are adult\n",
            "Species has been changed to Homo Sapien Sapien\n",
            "Homo Sapien Sapien\n",
            "You are not adult\n"
          ]
        }
      ]
    },
    {
      "cell_type": "markdown",
      "source": [
        "# Class Variables\n",
        "Class variables are the variables that are associated with the class and are shared with all the instances of the class and are initialized inside the class body outside of any method."
      ],
      "metadata": {
        "id": "Rp83QoLsC08z"
      }
    },
    {
      "cell_type": "code",
      "source": [
        "class Car:\n",
        "  model = \"Honda\"\n",
        "\n",
        "  def __init__(self,color,year):\n",
        "    self.color = color\n",
        "    self.year = year\n",
        "\n",
        "  def get_info(self):\n",
        "    print(f\"Model : {self.model}\")\n",
        "    print(f\"Color : {self.color}\")\n",
        "    print(f\"Year : {self.year}\")\n",
        "\n",
        "# result\n",
        "car1 = Car(\"Red\",2020)\n",
        "car2 = Car(\"Blue\",2025)\n",
        "\n",
        "print(car1.model)\n",
        "print(car2.model)\n",
        "\n",
        "car1.model = \"Toyota\"\n",
        "print(car1.model)\n",
        "print(car2.model)\n",
        "\n",
        "Car.model = \"BMW\"\n",
        "print(car1.model)\n",
        "print(car2.model)\n",
        "print(Car.model)\n",
        "(car1.get_info())\n",
        "(car2.get_info())\n",
        "\n",
        "Car.model = \"Audi\"\n",
        "print(car1.model)\n",
        "print(car2.model)\n",
        "print(Car.model)\n",
        "\n",
        "car1.model = \"Tesla\"\n",
        "print(car1.model)\n",
        "print(car2.model)\n",
        "print(Car.model)\n",
        "\n",
        "car1.get_info()\n",
        "car2.get_info()"
      ],
      "metadata": {
        "id": "qYijHFb-QUwz",
        "colab": {
          "base_uri": "https://localhost:8080/"
        },
        "outputId": "60ffa3a0-73e7-437d-f1d2-6a9a4cdd0d06"
      },
      "execution_count": null,
      "outputs": [
        {
          "output_type": "stream",
          "name": "stdout",
          "text": [
            "Honda\n",
            "Honda\n",
            "Toyota\n",
            "Honda\n",
            "Toyota\n",
            "BMW\n",
            "BMW\n",
            "Model : Toyota\n",
            "Color : Red\n",
            "Year : 2020\n",
            "Model : BMW\n",
            "Color : Blue\n",
            "Year : 2025\n",
            "Toyota\n",
            "Audi\n",
            "Audi\n",
            "Tesla\n",
            "Audi\n",
            "Audi\n",
            "Model : Tesla\n",
            "Color : Red\n",
            "Year : 2020\n",
            "Model : Audi\n",
            "Color : Blue\n",
            "Year : 2025\n"
          ]
        }
      ]
    },
    {
      "cell_type": "markdown",
      "source": [
        "# Composition And Aggregation\n",
        "Composition refers to a strong relationship in OOP in which one object contains another and the contained object's lifecycle is dependent on the container and if the container is destroyed the contained object is also destroyed.\n",
        "\n",
        "Aggregation refers to weak relationship in OOP in which the contained object can exist outside of the container independently."
      ],
      "metadata": {
        "id": "zcLU_KDEHzbk"
      }
    },
    {
      "cell_type": "code",
      "source": [
        "# composition\n",
        "class Engine:\n",
        "  def engine_start(self):\n",
        "    print(\"Engine Started\")\n",
        "class Car:\n",
        "  def __init__(self,model,color):\n",
        "    self.model = model\n",
        "    self.color = color\n",
        "    self.engine = Engine()\n",
        "\n",
        "  def get_info(self):\n",
        "    print(f\"Model : {self.model}\")\n",
        "    print(f\"Color : {self.color}\")\n",
        "\n",
        "  def car_start(self):\n",
        "    self.engine.engine_start()\n",
        "\n",
        "# result\n",
        "car = Car(\"Honda\",\"Red\")\n",
        "car.get_info()\n",
        "car.car_start()\n",
        "\n",
        "# Aggregation\n",
        "class Department:\n",
        "  def __init__(self,name):\n",
        "    self.name = name\n",
        "class University:\n",
        "  def __init__(self,name):\n",
        "    self.name = name\n",
        "    self.department = []\n",
        "  def add_department(self,department):\n",
        "    self.department.append(department)\n",
        "  def show_dep(self):\n",
        "    print(f\"University Name : {self.name}\")\n",
        "    print(f\"Department Names : {self.department[0].name},{self.department[1].name},{self.department[2].name}\")\n",
        "\n",
        "# result\n",
        "dep = Department(\"Computer Science\")\n",
        "uni = University(\"UMT\")\n",
        "\n",
        "print(dep.name)\n",
        "dep2 = Department(\"Artificial Intelligence\")\n",
        "uni.add_department(dep)\n",
        "uni.add_department(dep2)\n",
        "uni.add_department(Department(\"Electrical Engineering\"))\n",
        "uni.show_dep()\n"
      ],
      "metadata": {
        "colab": {
          "base_uri": "https://localhost:8080/"
        },
        "id": "o5K3CMMAECV3",
        "outputId": "0f5ef8b0-5b2d-4863-8b16-ebef4f49a271"
      },
      "execution_count": null,
      "outputs": [
        {
          "output_type": "stream",
          "name": "stdout",
          "text": [
            "Model : Honda\n",
            "Color : Red\n",
            "Engine Started\n",
            "Computer Science\n",
            "University Name : UMT\n",
            "Department Names : Computer Science,Artificial Intelligence,Electrical Engineering\n"
          ]
        }
      ]
    },
    {
      "cell_type": "markdown",
      "source": [
        "# Method Order Resolution\n",
        "Method Resolution Order (MRO) is an order in python by which python search for methods and attributes in a class heriarchy, mro() method return a list containing the order of classes by which methods and attributes are searched in a class heirarchy."
      ],
      "metadata": {
        "id": "GPuXaOomPZt4"
      }
    },
    {
      "cell_type": "code",
      "source": [
        "# Method Order Resolution\n",
        "class A:\n",
        "  def hello(self):\n",
        "    print(\"Hello From A\")\n",
        "class B(A):\n",
        "  def hello(self):\n",
        "    print(\"Hello From B\")\n",
        "class C(A):\n",
        "  def hello(self):\n",
        "    print(\"Hello From C\")\n",
        "class D(B,C):\n",
        "  pass\n",
        "\n",
        "# result\n",
        "d = D()\n",
        "d.hello()\n",
        "print(D.mro())\n"
      ],
      "metadata": {
        "colab": {
          "base_uri": "https://localhost:8080/"
        },
        "id": "8RdNJSmgI_9k",
        "outputId": "a4cfb076-cf02-4a13-ba15-c53d3652dcc4"
      },
      "execution_count": null,
      "outputs": [
        {
          "output_type": "stream",
          "name": "stdout",
          "text": [
            "Hello From B\n",
            "[<class '__main__.D'>, <class '__main__.B'>, <class '__main__.C'>, <class '__main__.A'>, <class 'object'>]\n"
          ]
        }
      ]
    },
    {
      "cell_type": "markdown",
      "source": [
        "# Decorators\n",
        "Decorators are powerful features in python that when applied to an object it enhances or modifies the functions and attributes in it."
      ],
      "metadata": {
        "id": "uPFhJTPXZtN-"
      }
    },
    {
      "cell_type": "code",
      "source": [
        "class CallCounter:\n",
        "  def __init__(self,func):\n",
        "    self.func = func\n",
        "    self.counter = 0\n",
        "\n",
        "  def __call__(self, *args ,**kwargs):\n",
        "    self.counter += 1\n",
        "    print(f\"The function {self.func.__name__} was called {self.counter} times\")\n",
        "    return self.func(*args,**kwargs)\n",
        "\n",
        "@CallCounter\n",
        "def hello(name):\n",
        "  print(f\"Hello from {name}\")\n",
        "\n",
        "hello(\"Saim\")\n",
        "hello(\"Hassan\")\n",
        "hello(\"Akhtar\")"
      ],
      "metadata": {
        "colab": {
          "base_uri": "https://localhost:8080/"
        },
        "id": "6aiqeIONTOYQ",
        "outputId": "9a4c23f7-b9e2-4853-d72c-14f2ffe65dcc"
      },
      "execution_count": null,
      "outputs": [
        {
          "output_type": "stream",
          "name": "stdout",
          "text": [
            "The function hello was called 1 times\n",
            "Hello from Saim\n",
            "The function hello was called 2 times\n",
            "Hello from Hassan\n",
            "The function hello was called 3 times\n",
            "Hello from Akhtar\n"
          ]
        }
      ]
    },
    {
      "cell_type": "markdown",
      "source": [
        "# @property Decorator\n",
        "@property decorator is a powerful feature in which that enables us to control how an attribute is acessessed, set or deleted in a class.\n"
      ],
      "metadata": {
        "id": "xKa9D1X5fJbh"
      }
    },
    {
      "cell_type": "code",
      "source": [
        "# property decorator : helps us to read an attribute with out parenthesis\n",
        "class Person:\n",
        "  def __init__(self,name):\n",
        "    self._name = name\n",
        "\n",
        "  @property\n",
        "  def name(self):\n",
        "    print(\"Getter Is Called\")\n",
        "    print(f\"Name is {self._name}\")\n",
        "    return self._name\n",
        "\n",
        "# result\n",
        "person1 = Person(\"Saim\")\n",
        "print(person1.name)\n",
        "\n",
        "# property.setter : allows us to set an attribute\n",
        "class Person2:\n",
        "  def __init__(self,name):\n",
        "    self._name = name\n",
        "\n",
        "  @property\n",
        "  def name(self):\n",
        "    print(\"Getter Is Called\")\n",
        "    return self._name\n",
        "\n",
        "  @name.setter\n",
        "  def name(self,new_name):\n",
        "     if not isinstance(new_name,str):\n",
        "      raise ValueError(\"Value Cannot Be Integer\")\n",
        "     self._name = new_name\n",
        "\n",
        "\n",
        "# result\n",
        "person2 = Person2(\"Ali\")\n",
        "print(person2.name)\n",
        "person2.name = \"Hassan\"\n",
        "print(person2.name)\n",
        "# person2.name = 123\n",
        "print(person2.name)\n",
        "\n",
        "# property.deleter is used when we delete an object attribute for efficient memory cleanup\n",
        "class Person3:\n",
        "  def __init__(self,name):\n",
        "    self._name = name\n",
        "\n",
        "  @property\n",
        "  def name(self):\n",
        "    print(\"Getter Is Called\")\n",
        "    return self._name\n",
        "\n",
        "  @name.setter\n",
        "  def name(self,new_name):\n",
        "    if not isinstance(new_name,str):\n",
        "      raise ValueError(\"Value Cannot Be Integer\")\n",
        "    self._name = new_name\n",
        "\n",
        "  @name.deleter\n",
        "  def name(self):\n",
        "    print(\"Deleter Is Called\")\n",
        "    del self._name\n",
        "\n",
        "person3 = Person3(\"Salahuddin\")\n",
        "print(person3.name)\n",
        "person3.name = \"Usman\"\n",
        "print(person3.name)\n",
        "del person3.name\n",
        "\n",
        "class BMI:\n",
        "  def __init__(self,weight,height):\n",
        "    self.height = height\n",
        "    self.weight = weight\n",
        "  @property\n",
        "  def calculate_bmi(self):\n",
        "    return self.weight / (self.height ** 2)\n",
        "\n",
        "bmi_1 = BMI(80,1.9)\n",
        "print(bmi_1.calculate_bmi)"
      ],
      "metadata": {
        "id": "o0ojprUbaugU",
        "colab": {
          "base_uri": "https://localhost:8080/"
        },
        "outputId": "973a4ffd-37bb-4dfa-bd41-55a0b32cbf3d"
      },
      "execution_count": null,
      "outputs": [
        {
          "output_type": "stream",
          "name": "stdout",
          "text": [
            "Getter Is Called\n",
            "Name is Saim\n",
            "Saim\n",
            "Getter Is Called\n",
            "Ali\n",
            "Getter Is Called\n",
            "Hassan\n",
            "Getter Is Called\n",
            "Hassan\n",
            "Getter Is Called\n",
            "Salahuddin\n",
            "Getter Is Called\n",
            "Usman\n",
            "Deleter Is Called\n",
            "22.1606648199446\n"
          ]
        }
      ]
    },
    {
      "cell_type": "markdown",
      "source": [
        "# Testing OPP Code"
      ],
      "metadata": {
        "id": "gFJYz2uaBFfG"
      }
    },
    {
      "cell_type": "code",
      "source": [
        "import unittest\n",
        "\n",
        "# unittest\n",
        "class Calculator:\n",
        "    def add(self, a, b):\n",
        "        return a + b\n",
        "\n",
        "    def subtract(self, a, b):\n",
        "        return a - b\n",
        "\n",
        "    def multiply(self, a, b):\n",
        "        return a * b\n",
        "\n",
        "    def divide(self, a, b):\n",
        "        if b == 0:\n",
        "            raise ValueError(\"Cannot divide by zero.\")\n",
        "        return a / b\n",
        "\n",
        "class TestCalculator(unittest.TestCase):\n",
        "  def setUp(self): # Changed from set to setUp\n",
        "    self.calculator = Calculator()\n",
        "\n",
        "  def test_add(self):\n",
        "    self.assertEqual(self.calculator.add(2,3),5)\n",
        "\n",
        "  def test_subtract(self): # Corrected typo from text_subtract\n",
        "    self.assertEqual(self.calculator.subtract(5,3),2)\n",
        "\n",
        "  def test_multiply(self):\n",
        "    self.assertEqual(self.calculator.multiply(2,3),6)\n",
        "\n",
        "  def test_divide(self):\n",
        "    self.assertEqual(self.calculator.divide(6,3),2)\n",
        "\n",
        "  def test_divide_by_zero(self):\n",
        "    with self.assertRaises(ValueError):\n",
        "      self.calculator.divide(5,0)\n",
        "\n",
        "if __name__ == \"__main__\":\n",
        "  unittest.main(argv=['first-arg-is-ignored'], exit=False)\n",
        "\n",
        "# pytest\n",
        "import pytest\n",
        "\n",
        "@pytest.fixture\n",
        "def calculator():\n",
        "  return Calculator()\n",
        "\n",
        "def test_add(calculator):\n",
        "  assert calculator.add(2,3) == 5\n",
        "\n",
        "def test_subtract(calculator):\n",
        "  assert calculator.subtract(5,3) == 2\n",
        "\n",
        "def test_multiply(calculator):\n",
        "  assert calculator.multiply(2,3) ==6\n",
        "\n",
        "def test_divide(calculator):\n",
        "  assert calculator.divide(6,3) == 2\n",
        "\n",
        "def test_divide_by_zero(calculator):\n",
        "  with pytest.raises(ValueError):\n",
        "    calculator.divide(5,0)\n",
        "\n",
        "if __name__ == '__main__':\n",
        "    pytest.main(['-v'])"
      ],
      "metadata": {
        "id": "zTMwyYtMhAGA",
        "colab": {
          "base_uri": "https://localhost:8080/"
        },
        "outputId": "08a904da-b71e-490a-9f97-e5d3bf7b41b9"
      },
      "execution_count": null,
      "outputs": [
        {
          "output_type": "stream",
          "name": "stderr",
          "text": [
            ".....\n",
            "----------------------------------------------------------------------\n",
            "Ran 5 tests in 0.006s\n",
            "\n",
            "OK\n"
          ]
        },
        {
          "output_type": "stream",
          "name": "stdout",
          "text": [
            "============================= test session starts ==============================\n",
            "platform linux -- Python 3.11.13, pytest-8.3.5, pluggy-1.6.0 -- /usr/bin/python3\n",
            "cachedir: .pytest_cache\n",
            "rootdir: /content\n",
            "plugins: langsmith-0.3.45, anyio-4.9.0, typeguard-4.4.3\n",
            "collecting ... collected 5 items\n",
            "\n",
            "test_calculator.py::test_add PASSED                                      [ 20%]\n",
            "test_calculator.py::test_subtract PASSED                                 [ 40%]\n",
            "test_calculator.py::test_multiply PASSED                                 [ 60%]\n",
            "test_calculator.py::test_divide PASSED                                   [ 80%]\n",
            "test_calculator.py::test_divide_by_zero PASSED                           [100%]\n",
            "\n",
            "============================== 5 passed in 0.04s ===============================\n"
          ]
        }
      ]
    },
    {
      "cell_type": "markdown",
      "source": [
        "# DataClasses\n",
        "Dataclasses in a very powerful feature in Python introduced in 3.7 verson that when used automatically generates the boilerplate code for classes like __init__, __eq__, __hash__,__repr__ etc."
      ],
      "metadata": {
        "id": "kUEn6J9DosJM"
      }
    },
    {
      "cell_type": "code",
      "source": [
        "from dataclasses import dataclass\n",
        "\n",
        "@dataclass\n",
        "class Person:\n",
        "  name : str\n",
        "  age : int\n",
        "  expertise : str = \"Artificial Intelligence\"\n",
        "\n",
        "# result\n",
        "person1 = Person(\"Saim\",25)\n",
        "person2 = Person(\"Ali\",20,\"Computer Science\")\n",
        "person3 = Person(\"Ali\",20,\"Computer Science\")\n",
        "print(person1)\n",
        "print(person2)\n",
        "print(person1 == person2)\n",
        "print(person2 == person3)\n",
        "\n",
        "# post-initialization processing\n",
        "@dataclass\n",
        "class Animal:\n",
        "  breed : str\n",
        "  age : int\n",
        "\n",
        "  def __post_init__(self):\n",
        "    print(\"Post Init Initiated\")\n",
        "    self.adult = self.age >= 4\n",
        "\n",
        "dog = Animal(\"Labrador\",3)\n",
        "print(dog)"
      ],
      "metadata": {
        "id": "Uj386FpXHWYD",
        "colab": {
          "base_uri": "https://localhost:8080/"
        },
        "outputId": "f58b4ba2-4a8d-4dfe-bdca-22fde461bcce"
      },
      "execution_count": null,
      "outputs": [
        {
          "output_type": "stream",
          "name": "stdout",
          "text": [
            "Person(name='Saim', age=25, expertise='Artificial Intelligence')\n",
            "Person(name='Ali', age=20, expertise='Computer Science')\n",
            "False\n",
            "True\n",
            "Post Init Initiated\n",
            "Animal(breed='Labrador', age=3)\n"
          ]
        }
      ]
    },
    {
      "cell_type": "markdown",
      "source": [
        "# Class,Instance And Static Variables And Methods"
      ],
      "metadata": {
        "id": "JoBu2umSBJC0"
      }
    },
    {
      "cell_type": "code",
      "source": [
        "from dataclasses import dataclass\n",
        "\n",
        "# class variables and methods\n",
        "from typing import ClassVar, Final\n",
        "@dataclass\n",
        "class Info:\n",
        "  name : str\n",
        "  age : int\n",
        "  expertise : str = \"Unknown\"\n",
        "  species : ClassVar[str] = \"Homo Sapiens\"\n",
        "\n",
        "  @classmethod\n",
        "  def get_species(cls):\n",
        "    print(f\"The Species is {cls.species}\")\n",
        "\n",
        "# result\n",
        "person1 = Info(\"Ali\",20,\"Computer Science\")\n",
        "person1.get_species()\n",
        "Info.species = \"Homo Sapien Sapiens\"\n",
        "person1.get_species()\n",
        "Info.get_species()\n",
        "\n",
        "# instance variable and methods\n",
        "@dataclass\n",
        "class Animal:\n",
        "  name : str\n",
        "  age : int\n",
        "  species : str = \"Unknown\"\n",
        "  MAX_AGE : Final[int] = 10\n",
        "\n",
        "  def get_info(self):\n",
        "    print(f\"Name : {self.name}\")\n",
        "    print(f\"Age : {self.age}\")\n",
        "    print(f\"Species : {self.species}\")\n",
        "\n",
        "# result\n",
        "dog = Animal(\"Netanyahu\",9,\"Dog\")\n",
        "dog.get_info()\n",
        "print(dog.MAX_AGE)\n",
        "\n",
        "# Static Variables And Methods\n",
        "@dataclass\n",
        "class Car:\n",
        "  name: str\n",
        "  model : str\n",
        "  color : str = \"Black\"\n",
        "\n",
        "  Milage : Final[int] = 12000\n",
        "\n",
        "  @staticmethod\n",
        "  def get_milage():\n",
        "    print(f\"Milage : {Car.Milage}\")\n",
        "\n",
        "# result\n",
        "car1 = Car(\"Honda\",\"Civic\")\n",
        "car1.get_milage()\n",
        "Car.get_milage()\n",
        "print(Car.Milage)\n",
        "print(car1.Milage)\n",
        "\n"
      ],
      "metadata": {
        "colab": {
          "base_uri": "https://localhost:8080/"
        },
        "id": "0aI_TVXRprsm",
        "outputId": "2849524b-9ac1-4ab1-ec0b-5e0e12b844a1"
      },
      "execution_count": null,
      "outputs": [
        {
          "output_type": "stream",
          "name": "stdout",
          "text": [
            "The Species is Homo Sapiens\n",
            "The Species is Homo Sapien Sapiens\n",
            "The Species is Homo Sapien Sapiens\n",
            "Name : Netanyahu\n",
            "Age : 9\n",
            "Species : Dog\n",
            "10\n",
            "Milage : 12000\n",
            "Milage : 12000\n",
            "12000\n",
            "12000\n"
          ]
        }
      ]
    },
    {
      "cell_type": "markdown",
      "source": [
        "# NamedTuple"
      ],
      "metadata": {
        "id": "PQNRclxQGaSs"
      }
    },
    {
      "cell_type": "code",
      "source": [
        "# named tuple (immutable)\n",
        "from typing import NamedTuple\n",
        "\n",
        "class PointNP(NamedTuple):\n",
        "  x : float\n",
        "  y : float\n",
        "\n",
        "p1 = PointNP(4.5,6.5)\n",
        "print(p1.x)\n",
        "print(p1.y)\n",
        "# p1.x = 5.5 (as it is immuble so cannot change attributes after initialization)"
      ],
      "metadata": {
        "colab": {
          "base_uri": "https://localhost:8080/"
        },
        "id": "Y4GF6Ho9DAEW",
        "outputId": "cf8692d6-c81c-4f52-8f8d-40f376284c52"
      },
      "execution_count": null,
      "outputs": [
        {
          "output_type": "stream",
          "name": "stdout",
          "text": [
            "4.5\n",
            "6.5\n"
          ]
        }
      ]
    },
    {
      "cell_type": "markdown",
      "source": [
        "# Advanced Features Of DataClasses"
      ],
      "metadata": {
        "id": "klB9SY_-HhMz"
      }
    },
    {
      "cell_type": "code",
      "source": [
        "# Field\n",
        "from dataclasses import field\n",
        "@dataclass\n",
        "class Person:\n",
        "  name : str = field(default=\"Unknown\")\n",
        "  age : int = field(default=18)\n",
        "  list_all : list[str] = field(default_factory=list)\n",
        "  dict_all : dict[str,int] = field(default_factory=dict)\n",
        "\n",
        "person_1 = Person(\"Saim\")\n",
        "print(person_1.age)\n",
        "print(person_1.name)\n",
        "print(person_1.list_all)\n",
        "print(person_1.dict_all)\n",
        "\n",
        "# order=True\n",
        "@dataclass(order=True)\n",
        "class BioData():\n",
        "  name : str\n",
        "  age : int\n",
        "  height : float\n",
        "\n",
        "b1 = BioData(\"Saim\",25,5.11)\n",
        "b2 = BioData(\"Ali\",20,5.6)\n",
        "print(b1)\n",
        "print(b2)\n",
        "print(b1 > b2)\n",
        "print(b2 > b1)\n",
        "\n",
        "# inheritence\n",
        "@dataclass\n",
        "class A:\n",
        "  x: int\n",
        "\n",
        "@dataclass\n",
        "class B(A):\n",
        "  y : int\n",
        "\n",
        "  def print_y(self):\n",
        "    print(self.y)\n",
        "\n",
        "  def print_x(self):\n",
        "    print(self.x)\n",
        "\n",
        "b = B(1,2)\n",
        "b.print_y()\n",
        "b.print_x()\n"
      ],
      "metadata": {
        "colab": {
          "base_uri": "https://localhost:8080/"
        },
        "id": "LIZ-W58sG27s",
        "outputId": "c8954367-8885-4542-d5b8-e265a1a1995f"
      },
      "execution_count": null,
      "outputs": [
        {
          "output_type": "stream",
          "name": "stdout",
          "text": [
            "18\n",
            "Saim\n",
            "[]\n",
            "{}\n",
            "BioData(name='Saim', age=25, height=5.11)\n",
            "BioData(name='Ali', age=20, height=5.6)\n",
            "True\n",
            "False\n",
            "2\n",
            "1\n"
          ]
        }
      ]
    },
    {
      "cell_type": "markdown",
      "source": [
        "# Pydantic\n",
        "Pydantic is a powerful library in python that is used for data validation and settings management"
      ],
      "metadata": {
        "id": "e3TOpSFzfvC9"
      }
    },
    {
      "cell_type": "code",
      "source": [
        "# BaseModel\n",
        "from pydantic import BaseModel\n",
        "\n",
        "class Info_All(BaseModel):\n",
        "  name : str\n",
        "  age : int\n",
        "  height : float = 6.0\n",
        "\n",
        "info1 = Info_All(name=\"Saim\", age=25)\n",
        "print(info1.name)\n",
        "print(info1.age)\n",
        "print(info1.height)\n",
        "\n",
        "# field Validation\n",
        "from pydantic import Field\n",
        "class Info_All1(BaseModel):\n",
        "  name : str = Field(...,max_length=20)\n",
        "  age : int = Field(gt=0,lt=30)\n",
        "  height : float = Field(gt=0,default=6.2)\n",
        "\n",
        "info2 = Info_All1(name=\"Saim\",age=25)\n",
        "print(info2.name)\n",
        "print(info2.age)\n",
        "print(info2.height)\n",
        "\n",
        "# Nested Models\n",
        "class Address(BaseModel):\n",
        "  city : str = Field(...,max_length=20)\n",
        "  street : str = Field(...,max_length=20)\n",
        "\n",
        "class Info_All2(BaseModel):\n",
        "  name : str = Field(...,max_length=20)\n",
        "  age : int = Field(gt=0,lt=30)\n",
        "  height : float = Field(gt=0,default=6.2)\n",
        "  address : Address\n",
        "\n",
        "info3 = Info_All2(name = \"Saim\", age=25, address = {\"city\":\"Karachi\",\"street\":\"Gulshan\"})\n",
        "print(info3.name)\n",
        "print(info3.age)\n",
        "print(info3.height)\n",
        "print(info3.address.city)\n",
        "print(info3.address.street)\n",
        "\n",
        "# Json Serialization\n",
        "class Person(BaseModel):\n",
        "  name : str\n",
        "  age : int\n",
        "\n",
        "person1 = Person(name=\"Saim\",age=25)\n",
        "print(person1.model_dump_json())\n",
        "\n",
        "person2 = Person.model_validate_json('{\"name\":\"Ali\",\"age\":30}')\n",
        "person3 = Person.model_validate_json('{\"name\":\"Hassan\",\"age\":20}')\n",
        "print(person2)\n",
        "print(person3)\n",
        "\n",
        "# validator\n",
        "from pydantic import validator\n",
        "class Info_All4(BaseModel):\n",
        "  name : str\n",
        "  email : str\n",
        "\n",
        "  @validator(\"name\")\n",
        "  def name_cannot_be_int_or_empty(cls,value):\n",
        "    if not isinstance(value,str):\n",
        "      raise ValueError(\"Name Cannot Be Integer\")\n",
        "    if not value:\n",
        "      raise ValueError(\"Name Cannot Be Empty\")\n",
        "    return value\n",
        "\n",
        "info5 = Info_All4(name=\"Saim\",email=\"saim@gmail.com\")\n",
        "print(info5.name)\n",
        "print(info5.email)"
      ],
      "metadata": {
        "colab": {
          "base_uri": "https://localhost:8080/"
        },
        "id": "LIr8KFR7InkC",
        "outputId": "e3c9c0ad-c72e-4b02-99f8-7ae4f276ef7d"
      },
      "execution_count": null,
      "outputs": [
        {
          "output_type": "stream",
          "name": "stdout",
          "text": [
            "Saim\n",
            "25\n",
            "6.0\n",
            "Saim\n",
            "25\n",
            "6.2\n",
            "Saim\n",
            "25\n",
            "6.2\n",
            "Karachi\n",
            "Gulshan\n",
            "{\"name\":\"Saim\",\"age\":25}\n",
            "name='Ali' age=30\n",
            "name='Hassan' age=20\n",
            "Saim\n",
            "saim@gmail.com\n"
          ]
        },
        {
          "output_type": "stream",
          "name": "stderr",
          "text": [
            "/tmp/ipython-input-16-4105627487.py:63: PydanticDeprecatedSince20: Pydantic V1 style `@validator` validators are deprecated. You should migrate to Pydantic V2 style `@field_validator` validators, see the migration guide for more details. Deprecated in Pydantic V2.0 to be removed in V3.0. See Pydantic V2 Migration Guide at https://errors.pydantic.dev/2.11/migration/\n",
            "  @validator(\"name\")\n"
          ]
        }
      ]
    },
    {
      "cell_type": "markdown",
      "source": [
        "# Generic (TypeVar)"
      ],
      "metadata": {
        "id": "HI39SKcopvW3"
      }
    },
    {
      "cell_type": "code",
      "source": [
        "from typing import TypeVar\n",
        "T = TypeVar(\"T\",int,float)\n",
        "def double(value:T):\n",
        "  print(value * 2)\n",
        "\n",
        "double(5)\n",
        "double(5.5)\n",
        "# double(\"Saim\")\n",
        "\n",
        "T = TypeVar(\"T\",bound=int)\n",
        "def multiply(value:T):\n",
        "  print(value * 2)\n",
        "\n",
        "multiply(5)\n",
        "# multiply(\"Saim\")"
      ],
      "metadata": {
        "colab": {
          "base_uri": "https://localhost:8080/"
        },
        "id": "3HvRYqd5gZrh",
        "outputId": "5f435d05-10d0-48cf-f760-7509248b855a"
      },
      "execution_count": null,
      "outputs": [
        {
          "output_type": "stream",
          "name": "stdout",
          "text": [
            "10\n",
            "11.0\n",
            "10\n"
          ]
        }
      ]
    },
    {
      "cell_type": "markdown",
      "source": [
        "# Asyncio or Asynchronous Programming\n",
        "Asyncio is a special library in python that enables us to write an asynchronous code that can run multiple tasks concurrently together without waiting for the one to be completed and then tart next in a synchronous way.\n",
        "\n",
        "**Courotines** : special functions that can pause and resume their execution on demand at specific points.\n",
        "\n",
        "**Event Lope** : a manager that handles all the courotines for proper fucntioning.\n",
        "\n",
        "**Tasks** : a courotine on which an eventloop is actively working.\n",
        "\n",
        "**Future** : the result of the task."
      ],
      "metadata": {
        "id": "bIaAGRuZfoDf"
      }
    },
    {
      "cell_type": "code",
      "source": [
        "import nest_asyncio\n",
        "nest_asyncio.apply()"
      ],
      "metadata": {
        "id": "eGXus814g302"
      },
      "execution_count": 2,
      "outputs": []
    },
    {
      "cell_type": "code",
      "source": [
        "import asyncio\n",
        "import threading\n",
        "from rich import print\n",
        "import time\n",
        "\n",
        "# sync func\n",
        "def make_coffee_sync():\n",
        "  print(f\"Staring Making Coffee : Thread {threading.current_thread().name}\")\n",
        "  time.sleep(2)\n",
        "  print(f\"Coffee Is Ready : Thread {threading.current_thread().name}\")\n",
        "\n",
        "def make_pastry_sync():\n",
        "  print(f\"Staring Making Pastry : Thread {threading.current_thread().name}\")\n",
        "  time.sleep(3)\n",
        "  print(f\"[violet]Pastry Is Ready : Thread {threading.current_thread().name}[/violet]\")\n",
        "\n",
        "def sync_func():\n",
        "  make_coffee_sync()\n",
        "  make_pastry_sync()\n",
        "\n",
        "# async_func\n",
        "async def make_coffee_async():\n",
        "  print(f\"Staring Making Coffee : Thread {threading.current_thread().name}\")\n",
        "  await asyncio.sleep(2)\n",
        "  print(f\"Coffee Is Ready : Thread {threading.current_thread().name}\")\n",
        "\n",
        "async def make_pastry_async():\n",
        "  print(\"Staring Making Pastry : Thread {threading.current_thread().name}\")\n",
        "  await asyncio.sleep(3)\n",
        "  print(f\"[purple]Pastry Is Ready : Thread {threading.current_thread().name}[/purple]\")\n",
        "\n",
        "async def async_func():\n",
        "  tasks = [\n",
        "      asyncio.create_task(make_coffee_async()),\n",
        "      asyncio.create_task(make_pastry_async())\n",
        "  ]\n",
        "  await asyncio.gather(*tasks)\n",
        "\n",
        "print(f\"[green]Starting Synchronous Program[/green]\")\n",
        "start_time = time.time()\n",
        "sync_func()\n",
        "end_time = time.time()\n",
        "print(f\"[green]Time Taken : {end_time - start_time}[/green]\")\n",
        "\n",
        "print(f\"[blue]Starting Synchronous Program[/blue]\")\n",
        "start_time = time.time()\n",
        "asyncio.run(async_func())\n",
        "end_time = time.time()\n",
        "print(f\"[blue]Time Taken : {end_time - start_time}[/blue]\")"
      ],
      "metadata": {
        "id": "HqvMRpmTuuAa",
        "colab": {
          "base_uri": "https://localhost:8080/",
          "height": 209
        },
        "outputId": "522778b8-4ae5-4c4c-cef5-a371a9841c77"
      },
      "execution_count": 6,
      "outputs": [
        {
          "output_type": "display_data",
          "data": {
            "text/plain": [
              "\u001b[32mStarting Synchronous Program\u001b[0m\n"
            ],
            "text/html": [
              "<pre style=\"white-space:pre;overflow-x:auto;line-height:normal;font-family:Menlo,'DejaVu Sans Mono',consolas,'Courier New',monospace\"><span style=\"color: #008000; text-decoration-color: #008000\">Starting Synchronous Program</span>\n",
              "</pre>\n"
            ]
          },
          "metadata": {}
        },
        {
          "output_type": "display_data",
          "data": {
            "text/plain": [
              "Staring Making Coffee : Thread MainThread\n"
            ],
            "text/html": [
              "<pre style=\"white-space:pre;overflow-x:auto;line-height:normal;font-family:Menlo,'DejaVu Sans Mono',consolas,'Courier New',monospace\">Staring Making Coffee : Thread MainThread\n",
              "</pre>\n"
            ]
          },
          "metadata": {}
        },
        {
          "output_type": "display_data",
          "data": {
            "text/plain": [
              "Coffee Is Ready : Thread MainThread\n"
            ],
            "text/html": [
              "<pre style=\"white-space:pre;overflow-x:auto;line-height:normal;font-family:Menlo,'DejaVu Sans Mono',consolas,'Courier New',monospace\">Coffee Is Ready : Thread MainThread\n",
              "</pre>\n"
            ]
          },
          "metadata": {}
        },
        {
          "output_type": "display_data",
          "data": {
            "text/plain": [
              "Staring Making Pastry : Thread MainThread\n"
            ],
            "text/html": [
              "<pre style=\"white-space:pre;overflow-x:auto;line-height:normal;font-family:Menlo,'DejaVu Sans Mono',consolas,'Courier New',monospace\">Staring Making Pastry : Thread MainThread\n",
              "</pre>\n"
            ]
          },
          "metadata": {}
        },
        {
          "output_type": "display_data",
          "data": {
            "text/plain": [
              "\u001b[38;5;177mPastry Is Ready : Thread MainThread\u001b[0m\n"
            ],
            "text/html": [
              "<pre style=\"white-space:pre;overflow-x:auto;line-height:normal;font-family:Menlo,'DejaVu Sans Mono',consolas,'Courier New',monospace\"><span style=\"color: #d787ff; text-decoration-color: #d787ff\">Pastry Is Ready : Thread MainThread</span>\n",
              "</pre>\n"
            ]
          },
          "metadata": {}
        },
        {
          "output_type": "display_data",
          "data": {
            "text/plain": [
              "\u001b[32mTime Taken : \u001b[0m\u001b[1;32m5.007301568984985\u001b[0m\n"
            ],
            "text/html": [
              "<pre style=\"white-space:pre;overflow-x:auto;line-height:normal;font-family:Menlo,'DejaVu Sans Mono',consolas,'Courier New',monospace\"><span style=\"color: #008000; text-decoration-color: #008000\">Time Taken : </span><span style=\"color: #008000; text-decoration-color: #008000; font-weight: bold\">5.007301568984985</span>\n",
              "</pre>\n"
            ]
          },
          "metadata": {}
        },
        {
          "output_type": "display_data",
          "data": {
            "text/plain": [
              "\u001b[34mStarting Synchronous Program\u001b[0m\n"
            ],
            "text/html": [
              "<pre style=\"white-space:pre;overflow-x:auto;line-height:normal;font-family:Menlo,'DejaVu Sans Mono',consolas,'Courier New',monospace\"><span style=\"color: #000080; text-decoration-color: #000080\">Starting Synchronous Program</span>\n",
              "</pre>\n"
            ]
          },
          "metadata": {}
        },
        {
          "output_type": "display_data",
          "data": {
            "text/plain": [
              "Staring Making Coffee : Thread MainThread\n"
            ],
            "text/html": [
              "<pre style=\"white-space:pre;overflow-x:auto;line-height:normal;font-family:Menlo,'DejaVu Sans Mono',consolas,'Courier New',monospace\">Staring Making Coffee : Thread MainThread\n",
              "</pre>\n"
            ]
          },
          "metadata": {}
        },
        {
          "output_type": "display_data",
          "data": {
            "text/plain": [
              "Staring Making Pastry : Thread \u001b[1m{\u001b[0m\u001b[1;35mthreading.current_thread\u001b[0m\u001b[1m(\u001b[0m\u001b[1m)\u001b[0m.name\u001b[1m}\u001b[0m\n"
            ],
            "text/html": [
              "<pre style=\"white-space:pre;overflow-x:auto;line-height:normal;font-family:Menlo,'DejaVu Sans Mono',consolas,'Courier New',monospace\">Staring Making Pastry : Thread <span style=\"font-weight: bold\">{</span><span style=\"color: #800080; text-decoration-color: #800080; font-weight: bold\">threading.current_thread</span><span style=\"font-weight: bold\">()</span>.name<span style=\"font-weight: bold\">}</span>\n",
              "</pre>\n"
            ]
          },
          "metadata": {}
        },
        {
          "output_type": "display_data",
          "data": {
            "text/plain": [
              "Coffee Is Ready : Thread MainThread\n"
            ],
            "text/html": [
              "<pre style=\"white-space:pre;overflow-x:auto;line-height:normal;font-family:Menlo,'DejaVu Sans Mono',consolas,'Courier New',monospace\">Coffee Is Ready : Thread MainThread\n",
              "</pre>\n"
            ]
          },
          "metadata": {}
        },
        {
          "output_type": "display_data",
          "data": {
            "text/plain": [
              "\u001b[38;5;129mPastry Is Ready : Thread MainThread\u001b[0m\n"
            ],
            "text/html": [
              "<pre style=\"white-space:pre;overflow-x:auto;line-height:normal;font-family:Menlo,'DejaVu Sans Mono',consolas,'Courier New',monospace\"><span style=\"color: #af00ff; text-decoration-color: #af00ff\">Pastry Is Ready : Thread MainThread</span>\n",
              "</pre>\n"
            ]
          },
          "metadata": {}
        },
        {
          "output_type": "display_data",
          "data": {
            "text/plain": [
              "\u001b[34mTime Taken : \u001b[0m\u001b[1;34m3.0087332725524902\u001b[0m\n"
            ],
            "text/html": [
              "<pre style=\"white-space:pre;overflow-x:auto;line-height:normal;font-family:Menlo,'DejaVu Sans Mono',consolas,'Courier New',monospace\"><span style=\"color: #000080; text-decoration-color: #000080\">Time Taken : </span><span style=\"color: #000080; text-decoration-color: #000080; font-weight: bold\">3.0087332725524902</span>\n",
              "</pre>\n"
            ]
          },
          "metadata": {}
        }
      ]
    },
    {
      "cell_type": "markdown",
      "source": [
        "# CPython\n",
        "CPython is a reference implementation of Python ,CPython refers to the main engine that contains interpreter and compiler to run the script written in python language."
      ],
      "metadata": {
        "id": "vOdl0d5I-XVq"
      }
    },
    {
      "cell_type": "code",
      "source": [
        "import platform\n",
        "print(platform.python_implementation())"
      ],
      "metadata": {
        "colab": {
          "base_uri": "https://localhost:8080/",
          "height": 33
        },
        "id": "0M3MtnAuxjeK",
        "outputId": "ccc49483-ffbe-44e1-d81d-e0242be3ba56"
      },
      "execution_count": 9,
      "outputs": [
        {
          "output_type": "display_data",
          "data": {
            "text/plain": [
              "CPython\n"
            ],
            "text/html": [
              "<pre style=\"white-space:pre;overflow-x:auto;line-height:normal;font-family:Menlo,'DejaVu Sans Mono',consolas,'Courier New',monospace\">CPython\n",
              "</pre>\n"
            ]
          },
          "metadata": {}
        }
      ]
    },
    {
      "cell_type": "markdown",
      "source": [
        "# DocString\n",
        "Docstrings are regarded as strings inside the class/functions/modules that tells us what this class/func/module does, it acts as a built-in documentation."
      ],
      "metadata": {
        "id": "Fp1LF2yoCrd0"
      }
    },
    {
      "cell_type": "code",
      "source": [
        "def greet(name):\n",
        "  \"\"\"\n",
        "  def greet(name):\n",
        "    print(\"Hello World\")\n",
        "  It is a function that takes the name of the user as an argument and prints the greeting message to it in accordance with its name\n",
        "  \"\"\"\n",
        "  print(\"Hello World\")\n",
        "\n",
        "print(greet.__doc__)\n",
        "print(\"---------------\" *2)\n",
        "print(help(greet))\n",
        "\n",
        "# other exp\n",
        "import numpy\n",
        "print(numpy.__doc__)\n",
        "\n",
        "import math\n",
        "print(help(math))"
      ],
      "metadata": {
        "colab": {
          "base_uri": "https://localhost:8080/",
          "height": 1000
        },
        "id": "w_W_I5FL0O7Y",
        "outputId": "c6261bcf-4c3b-4414-8fbc-f8e2c2a13948"
      },
      "execution_count": 13,
      "outputs": [
        {
          "output_type": "display_data",
          "data": {
            "text/plain": [
              "\n",
              "  def \u001b[1;35mgreet\u001b[0m\u001b[1m(\u001b[0mname\u001b[1m)\u001b[0m:\n",
              "    \u001b[1;35mprint\u001b[0m\u001b[1m(\u001b[0m\u001b[32m\"Hello World\"\u001b[0m\u001b[1m)\u001b[0m\n",
              "  It is a function that takes the name of the user as an argument and prints the greeting message to it in \n",
              "accordance with its name\n",
              "  \n"
            ],
            "text/html": [
              "<pre style=\"white-space:pre;overflow-x:auto;line-height:normal;font-family:Menlo,'DejaVu Sans Mono',consolas,'Courier New',monospace\">\n",
              "  def <span style=\"color: #800080; text-decoration-color: #800080; font-weight: bold\">greet</span><span style=\"font-weight: bold\">(</span>name<span style=\"font-weight: bold\">)</span>:\n",
              "    <span style=\"color: #800080; text-decoration-color: #800080; font-weight: bold\">print</span><span style=\"font-weight: bold\">(</span><span style=\"color: #008000; text-decoration-color: #008000\">\"Hello World\"</span><span style=\"font-weight: bold\">)</span>\n",
              "  It is a function that takes the name of the user as an argument and prints the greeting message to it in \n",
              "accordance with its name\n",
              "  \n",
              "</pre>\n"
            ]
          },
          "metadata": {}
        },
        {
          "output_type": "display_data",
          "data": {
            "text/plain": [
              "------------------------------\n"
            ],
            "text/html": [
              "<pre style=\"white-space:pre;overflow-x:auto;line-height:normal;font-family:Menlo,'DejaVu Sans Mono',consolas,'Courier New',monospace\">------------------------------\n",
              "</pre>\n"
            ]
          },
          "metadata": {}
        },
        {
          "output_type": "stream",
          "name": "stdout",
          "text": [
            "Help on function greet in module __main__:\n",
            "\n",
            "greet(name)\n",
            "    def greet(name):\n",
            "      print(\"Hello World\")\n",
            "    It is a function that takes the name of the user as an argument and prints the greeting message to it in accordance with its name\n",
            "\n"
          ]
        },
        {
          "output_type": "display_data",
          "data": {
            "text/plain": [
              "\u001b[3;35mNone\u001b[0m\n"
            ],
            "text/html": [
              "<pre style=\"white-space:pre;overflow-x:auto;line-height:normal;font-family:Menlo,'DejaVu Sans Mono',consolas,'Courier New',monospace\"><span style=\"color: #800080; text-decoration-color: #800080; font-style: italic\">None</span>\n",
              "</pre>\n"
            ]
          },
          "metadata": {}
        },
        {
          "output_type": "display_data",
          "data": {
            "text/plain": [
              "\n",
              "NumPy\n",
              "=====\n",
              "\n",
              "Provides\n",
              "  \u001b[1;36m1\u001b[0m. An array object of arbitrary homogeneous items\n",
              "  \u001b[1;36m2\u001b[0m. Fast mathematical operations over arrays\n",
              "  \u001b[1;36m3\u001b[0m. Linear Algebra, Fourier Transforms, Random Number Generation\n",
              "\n",
              "How to use the documentation\n",
              "----------------------------\n",
              "Documentation is available in two forms: docstrings provided\n",
              "with the code, and a loose standing reference guide, available from\n",
              "`the NumPy homepage \u001b[1m<\u001b[0m\u001b[4;94mhttps:\u001b[0m\u001b[4;94m//numpy.org\u001b[0m\u001b[39m>`_.\u001b[0m\n",
              "\n",
              "\u001b[39mWe recommend exploring the docstrings using\u001b[0m\n",
              "\u001b[39m`IPython <\u001b[0m\u001b[4;94mhttps://ipython.org\u001b[0m\u001b[39m>`_, an advanced Python shell with\u001b[0m\n",
              "\u001b[39mTAB-completion and introspection capabilities.  See below for further\u001b[0m\n",
              "\u001b[39minstructions.\u001b[0m\n",
              "\n",
              "\u001b[39mThe docstring examples assume that `numpy` has been imported as ``np``::\u001b[0m\n",
              "\n",
              "\u001b[39m  >>> import numpy as np\u001b[0m\n",
              "\n",
              "\u001b[39mCode snippets are indicated by three greater-than signs::\u001b[0m\n",
              "\n",
              "\u001b[39m  >>> x = \u001b[0m\u001b[1;36m42\u001b[0m\n",
              "\u001b[39m  >>> x = x + \u001b[0m\u001b[1;36m1\u001b[0m\n",
              "\n",
              "\u001b[39mUse the built-in ``help`` function to view a function's docstring::\u001b[0m\n",
              "\n",
              "\u001b[39m  >>> \u001b[0m\u001b[1;35mhelp\u001b[0m\u001b[1;39m(\u001b[0m\u001b[39mnp.sort\u001b[0m\u001b[1;39m)\u001b[0m\n",
              "\u001b[39m  \u001b[0m\u001b[33m...\u001b[0m\u001b[39m # doctest: +SKIP\u001b[0m\n",
              "\n",
              "\u001b[39mFor some objects, ``\u001b[0m\u001b[1;35mnp.info\u001b[0m\u001b[1;39m(\u001b[0m\u001b[39mobj\u001b[0m\u001b[1;39m)\u001b[0m\u001b[39m`` may provide additional help.  This is\u001b[0m\n",
              "\u001b[39mparticularly true if you see the line \u001b[0m\u001b[32m\"Help on ufunc object:\"\u001b[0m\u001b[39m at the top\u001b[0m\n",
              "\u001b[39mof the \u001b[0m\u001b[1;35mhelp\u001b[0m\u001b[1;39m(\u001b[0m\u001b[1;39m)\u001b[0m\u001b[39m page.  Ufuncs are implemented in C, not Python, for speed.\u001b[0m\n",
              "\u001b[39mThe native Python \u001b[0m\u001b[1;35mhelp\u001b[0m\u001b[1;39m(\u001b[0m\u001b[1;39m)\u001b[0m\u001b[39m does not know how to view their help, but our\u001b[0m\n",
              "\u001b[1;35mnp.info\u001b[0m\u001b[1;39m(\u001b[0m\u001b[1;39m)\u001b[0m\u001b[39m function does.\u001b[0m\n",
              "\n",
              "\u001b[39mAvailable subpackages\u001b[0m\n",
              "\u001b[39m---------------------\u001b[0m\n",
              "\u001b[39mlib\u001b[0m\n",
              "\u001b[39m    Basic functions used by several sub-packages.\u001b[0m\n",
              "\u001b[39mrandom\u001b[0m\n",
              "\u001b[39m    Core Random Tools\u001b[0m\n",
              "\u001b[39mlinalg\u001b[0m\n",
              "\u001b[39m    Core Linear Algebra Tools\u001b[0m\n",
              "\u001b[39mfft\u001b[0m\n",
              "\u001b[39m    Core FFT routines\u001b[0m\n",
              "\u001b[39mpolynomial\u001b[0m\n",
              "\u001b[39m    Polynomial tools\u001b[0m\n",
              "\u001b[39mtesting\u001b[0m\n",
              "\u001b[39m    NumPy testing tools\u001b[0m\n",
              "\u001b[39mdistutils\u001b[0m\n",
              "\u001b[39m    Enhancements to distutils with support for\u001b[0m\n",
              "\u001b[39m    Fortran compilers support and more \u001b[0m\u001b[1;39m(\u001b[0m\u001b[39mfor Python <= \u001b[0m\u001b[1;36m3.11\u001b[0m\u001b[1;39m)\u001b[0m\n",
              "\n",
              "\u001b[39mUtilities\u001b[0m\n",
              "\u001b[39m---------\u001b[0m\n",
              "\u001b[39mtest\u001b[0m\n",
              "\u001b[39m    Run numpy unittests\u001b[0m\n",
              "\u001b[39mshow_config\u001b[0m\n",
              "\u001b[39m    Show numpy build configuration\u001b[0m\n",
              "\u001b[39m__version__\u001b[0m\n",
              "\u001b[39m    NumPy version string\u001b[0m\n",
              "\n",
              "\u001b[39mViewing documentation using IPython\u001b[0m\n",
              "\u001b[39m-----------------------------------\u001b[0m\n",
              "\n",
              "\u001b[39mStart IPython and import `numpy` usually under the alias ``np``: `import\u001b[0m\n",
              "\u001b[39mnumpy as np`.  Then, directly past or use the ``%cpaste`` magic to paste\u001b[0m\n",
              "\u001b[39mexamples into the shell.  To see which functions are available in `numpy`,\u001b[0m\n",
              "\u001b[39mtype ``np.<TAB>`` \u001b[0m\u001b[1;39m(\u001b[0m\u001b[39mwhere ``<TAB>`` refers to the TAB key\u001b[0m\u001b[1;39m)\u001b[0m\u001b[39m, or use\u001b[0m\n",
              "\u001b[39m``np.*cos*?<ENTER>`` \u001b[0m\u001b[1;39m(\u001b[0m\u001b[39mwhere ``<ENTER>`` refers to the ENTER key\u001b[0m\u001b[1;39m)\u001b[0m\u001b[39m to narrow\u001b[0m\n",
              "\u001b[39mdown the list.  To view the docstring for a function, use\u001b[0m\n",
              "\u001b[39m``np.cos?<ENTER>`` \u001b[0m\u001b[1;39m(\u001b[0m\u001b[39mto view the docstring\u001b[0m\u001b[1;39m)\u001b[0m\u001b[39m and ``np.cos??<ENTER\u001b[0m\u001b[1m>\u001b[0m`` \u001b[1m(\u001b[0mto view\n",
              "the source code\u001b[1m)\u001b[0m.\n",
              "\n",
              "Copies vs. in-place operation\n",
              "-----------------------------\n",
              "Most of the functions in `numpy` return a copy of the array argument\n",
              "\u001b[1m(\u001b[0me.g., `np.sort`\u001b[1m)\u001b[0m.  In-place versions of these functions are often\n",
              "available as array methods, i.e. ``x = \u001b[1;35mnp.array\u001b[0m\u001b[1m(\u001b[0m\u001b[1m[\u001b[0m\u001b[1;36m1\u001b[0m,\u001b[1;36m2\u001b[0m,\u001b[1;36m3\u001b[0m\u001b[1m]\u001b[0m\u001b[1m)\u001b[0m; \u001b[1;35mx.sort\u001b[0m\u001b[1m(\u001b[0m\u001b[1m)\u001b[0m``.\n",
              "Exceptions to this rule are documented.\n",
              "\n",
              "\n"
            ],
            "text/html": [
              "<pre style=\"white-space:pre;overflow-x:auto;line-height:normal;font-family:Menlo,'DejaVu Sans Mono',consolas,'Courier New',monospace\">\n",
              "NumPy\n",
              "=====\n",
              "\n",
              "Provides\n",
              "  <span style=\"color: #008080; text-decoration-color: #008080; font-weight: bold\">1</span>. An array object of arbitrary homogeneous items\n",
              "  <span style=\"color: #008080; text-decoration-color: #008080; font-weight: bold\">2</span>. Fast mathematical operations over arrays\n",
              "  <span style=\"color: #008080; text-decoration-color: #008080; font-weight: bold\">3</span>. Linear Algebra, Fourier Transforms, Random Number Generation\n",
              "\n",
              "How to use the documentation\n",
              "----------------------------\n",
              "Documentation is available in two forms: docstrings provided\n",
              "with the code, and a loose standing reference guide, available from\n",
              "`the NumPy homepage <span style=\"font-weight: bold\">&lt;</span><span style=\"color: #0000ff; text-decoration-color: #0000ff; text-decoration: underline\">https://numpy.org</span><span style=\"color: #000000; text-decoration-color: #000000\">&gt;`_.</span>\n",
              "\n",
              "<span style=\"color: #000000; text-decoration-color: #000000\">We recommend exploring the docstrings using</span>\n",
              "<span style=\"color: #000000; text-decoration-color: #000000\">`IPython &lt;</span><span style=\"color: #0000ff; text-decoration-color: #0000ff; text-decoration: underline\">https://ipython.org</span><span style=\"color: #000000; text-decoration-color: #000000\">&gt;`_, an advanced Python shell with</span>\n",
              "<span style=\"color: #000000; text-decoration-color: #000000\">TAB-completion and introspection capabilities.  See below for further</span>\n",
              "<span style=\"color: #000000; text-decoration-color: #000000\">instructions.</span>\n",
              "\n",
              "<span style=\"color: #000000; text-decoration-color: #000000\">The docstring examples assume that `numpy` has been imported as ``np``::</span>\n",
              "\n",
              "<span style=\"color: #000000; text-decoration-color: #000000\">  &gt;&gt;&gt; import numpy as np</span>\n",
              "\n",
              "<span style=\"color: #000000; text-decoration-color: #000000\">Code snippets are indicated by three greater-than signs::</span>\n",
              "\n",
              "<span style=\"color: #000000; text-decoration-color: #000000\">  &gt;&gt;&gt; x = </span><span style=\"color: #008080; text-decoration-color: #008080; font-weight: bold\">42</span>\n",
              "<span style=\"color: #000000; text-decoration-color: #000000\">  &gt;&gt;&gt; x = x + </span><span style=\"color: #008080; text-decoration-color: #008080; font-weight: bold\">1</span>\n",
              "\n",
              "<span style=\"color: #000000; text-decoration-color: #000000\">Use the built-in ``help`` function to view a function's docstring::</span>\n",
              "\n",
              "<span style=\"color: #000000; text-decoration-color: #000000\">  &gt;&gt;&gt; </span><span style=\"color: #800080; text-decoration-color: #800080; font-weight: bold\">help</span><span style=\"color: #000000; text-decoration-color: #000000; font-weight: bold\">(</span><span style=\"color: #000000; text-decoration-color: #000000\">np.sort</span><span style=\"color: #000000; text-decoration-color: #000000; font-weight: bold\">)</span>\n",
              "<span style=\"color: #000000; text-decoration-color: #000000\">  </span><span style=\"color: #808000; text-decoration-color: #808000\">...</span><span style=\"color: #000000; text-decoration-color: #000000\"> # doctest: +SKIP</span>\n",
              "\n",
              "<span style=\"color: #000000; text-decoration-color: #000000\">For some objects, ``</span><span style=\"color: #800080; text-decoration-color: #800080; font-weight: bold\">np.info</span><span style=\"color: #000000; text-decoration-color: #000000; font-weight: bold\">(</span><span style=\"color: #000000; text-decoration-color: #000000\">obj</span><span style=\"color: #000000; text-decoration-color: #000000; font-weight: bold\">)</span><span style=\"color: #000000; text-decoration-color: #000000\">`` may provide additional help.  This is</span>\n",
              "<span style=\"color: #000000; text-decoration-color: #000000\">particularly true if you see the line </span><span style=\"color: #008000; text-decoration-color: #008000\">\"Help on ufunc object:\"</span><span style=\"color: #000000; text-decoration-color: #000000\"> at the top</span>\n",
              "<span style=\"color: #000000; text-decoration-color: #000000\">of the </span><span style=\"color: #800080; text-decoration-color: #800080; font-weight: bold\">help</span><span style=\"color: #000000; text-decoration-color: #000000; font-weight: bold\">()</span><span style=\"color: #000000; text-decoration-color: #000000\"> page.  Ufuncs are implemented in C, not Python, for speed.</span>\n",
              "<span style=\"color: #000000; text-decoration-color: #000000\">The native Python </span><span style=\"color: #800080; text-decoration-color: #800080; font-weight: bold\">help</span><span style=\"color: #000000; text-decoration-color: #000000; font-weight: bold\">()</span><span style=\"color: #000000; text-decoration-color: #000000\"> does not know how to view their help, but our</span>\n",
              "<span style=\"color: #800080; text-decoration-color: #800080; font-weight: bold\">np.info</span><span style=\"color: #000000; text-decoration-color: #000000; font-weight: bold\">()</span><span style=\"color: #000000; text-decoration-color: #000000\"> function does.</span>\n",
              "\n",
              "<span style=\"color: #000000; text-decoration-color: #000000\">Available subpackages</span>\n",
              "<span style=\"color: #000000; text-decoration-color: #000000\">---------------------</span>\n",
              "<span style=\"color: #000000; text-decoration-color: #000000\">lib</span>\n",
              "<span style=\"color: #000000; text-decoration-color: #000000\">    Basic functions used by several sub-packages.</span>\n",
              "<span style=\"color: #000000; text-decoration-color: #000000\">random</span>\n",
              "<span style=\"color: #000000; text-decoration-color: #000000\">    Core Random Tools</span>\n",
              "<span style=\"color: #000000; text-decoration-color: #000000\">linalg</span>\n",
              "<span style=\"color: #000000; text-decoration-color: #000000\">    Core Linear Algebra Tools</span>\n",
              "<span style=\"color: #000000; text-decoration-color: #000000\">fft</span>\n",
              "<span style=\"color: #000000; text-decoration-color: #000000\">    Core FFT routines</span>\n",
              "<span style=\"color: #000000; text-decoration-color: #000000\">polynomial</span>\n",
              "<span style=\"color: #000000; text-decoration-color: #000000\">    Polynomial tools</span>\n",
              "<span style=\"color: #000000; text-decoration-color: #000000\">testing</span>\n",
              "<span style=\"color: #000000; text-decoration-color: #000000\">    NumPy testing tools</span>\n",
              "<span style=\"color: #000000; text-decoration-color: #000000\">distutils</span>\n",
              "<span style=\"color: #000000; text-decoration-color: #000000\">    Enhancements to distutils with support for</span>\n",
              "<span style=\"color: #000000; text-decoration-color: #000000\">    Fortran compilers support and more </span><span style=\"color: #000000; text-decoration-color: #000000; font-weight: bold\">(</span><span style=\"color: #000000; text-decoration-color: #000000\">for Python &lt;= </span><span style=\"color: #008080; text-decoration-color: #008080; font-weight: bold\">3.11</span><span style=\"color: #000000; text-decoration-color: #000000; font-weight: bold\">)</span>\n",
              "\n",
              "<span style=\"color: #000000; text-decoration-color: #000000\">Utilities</span>\n",
              "<span style=\"color: #000000; text-decoration-color: #000000\">---------</span>\n",
              "<span style=\"color: #000000; text-decoration-color: #000000\">test</span>\n",
              "<span style=\"color: #000000; text-decoration-color: #000000\">    Run numpy unittests</span>\n",
              "<span style=\"color: #000000; text-decoration-color: #000000\">show_config</span>\n",
              "<span style=\"color: #000000; text-decoration-color: #000000\">    Show numpy build configuration</span>\n",
              "<span style=\"color: #000000; text-decoration-color: #000000\">__version__</span>\n",
              "<span style=\"color: #000000; text-decoration-color: #000000\">    NumPy version string</span>\n",
              "\n",
              "<span style=\"color: #000000; text-decoration-color: #000000\">Viewing documentation using IPython</span>\n",
              "<span style=\"color: #000000; text-decoration-color: #000000\">-----------------------------------</span>\n",
              "\n",
              "<span style=\"color: #000000; text-decoration-color: #000000\">Start IPython and import `numpy` usually under the alias ``np``: `import</span>\n",
              "<span style=\"color: #000000; text-decoration-color: #000000\">numpy as np`.  Then, directly past or use the ``%cpaste`` magic to paste</span>\n",
              "<span style=\"color: #000000; text-decoration-color: #000000\">examples into the shell.  To see which functions are available in `numpy`,</span>\n",
              "<span style=\"color: #000000; text-decoration-color: #000000\">type ``np.&lt;TAB&gt;`` </span><span style=\"color: #000000; text-decoration-color: #000000; font-weight: bold\">(</span><span style=\"color: #000000; text-decoration-color: #000000\">where ``&lt;TAB&gt;`` refers to the TAB key</span><span style=\"color: #000000; text-decoration-color: #000000; font-weight: bold\">)</span><span style=\"color: #000000; text-decoration-color: #000000\">, or use</span>\n",
              "<span style=\"color: #000000; text-decoration-color: #000000\">``np.*cos*?&lt;ENTER&gt;`` </span><span style=\"color: #000000; text-decoration-color: #000000; font-weight: bold\">(</span><span style=\"color: #000000; text-decoration-color: #000000\">where ``&lt;ENTER&gt;`` refers to the ENTER key</span><span style=\"color: #000000; text-decoration-color: #000000; font-weight: bold\">)</span><span style=\"color: #000000; text-decoration-color: #000000\"> to narrow</span>\n",
              "<span style=\"color: #000000; text-decoration-color: #000000\">down the list.  To view the docstring for a function, use</span>\n",
              "<span style=\"color: #000000; text-decoration-color: #000000\">``np.cos?&lt;ENTER&gt;`` </span><span style=\"color: #000000; text-decoration-color: #000000; font-weight: bold\">(</span><span style=\"color: #000000; text-decoration-color: #000000\">to view the docstring</span><span style=\"color: #000000; text-decoration-color: #000000; font-weight: bold\">)</span><span style=\"color: #000000; text-decoration-color: #000000\"> and ``np.cos??&lt;ENTER</span><span style=\"font-weight: bold\">&gt;</span>`` <span style=\"font-weight: bold\">(</span>to view\n",
              "the source code<span style=\"font-weight: bold\">)</span>.\n",
              "\n",
              "Copies vs. in-place operation\n",
              "-----------------------------\n",
              "Most of the functions in `numpy` return a copy of the array argument\n",
              "<span style=\"font-weight: bold\">(</span>e.g., `np.sort`<span style=\"font-weight: bold\">)</span>.  In-place versions of these functions are often\n",
              "available as array methods, i.e. ``x = <span style=\"color: #800080; text-decoration-color: #800080; font-weight: bold\">np.array</span><span style=\"font-weight: bold\">([</span><span style=\"color: #008080; text-decoration-color: #008080; font-weight: bold\">1</span>,<span style=\"color: #008080; text-decoration-color: #008080; font-weight: bold\">2</span>,<span style=\"color: #008080; text-decoration-color: #008080; font-weight: bold\">3</span><span style=\"font-weight: bold\">])</span>; <span style=\"color: #800080; text-decoration-color: #800080; font-weight: bold\">x.sort</span><span style=\"font-weight: bold\">()</span>``.\n",
              "Exceptions to this rule are documented.\n",
              "\n",
              "\n",
              "</pre>\n"
            ]
          },
          "metadata": {}
        },
        {
          "output_type": "stream",
          "name": "stdout",
          "text": [
            "Help on built-in module math:\n",
            "\n",
            "NAME\n",
            "    math\n",
            "\n",
            "DESCRIPTION\n",
            "    This module provides access to the mathematical functions\n",
            "    defined by the C standard.\n",
            "\n",
            "FUNCTIONS\n",
            "    acos(x, /)\n",
            "        Return the arc cosine (measured in radians) of x.\n",
            "        \n",
            "        The result is between 0 and pi.\n",
            "    \n",
            "    acosh(x, /)\n",
            "        Return the inverse hyperbolic cosine of x.\n",
            "    \n",
            "    asin(x, /)\n",
            "        Return the arc sine (measured in radians) of x.\n",
            "        \n",
            "        The result is between -pi/2 and pi/2.\n",
            "    \n",
            "    asinh(x, /)\n",
            "        Return the inverse hyperbolic sine of x.\n",
            "    \n",
            "    atan(x, /)\n",
            "        Return the arc tangent (measured in radians) of x.\n",
            "        \n",
            "        The result is between -pi/2 and pi/2.\n",
            "    \n",
            "    atan2(y, x, /)\n",
            "        Return the arc tangent (measured in radians) of y/x.\n",
            "        \n",
            "        Unlike atan(y/x), the signs of both x and y are considered.\n",
            "    \n",
            "    atanh(x, /)\n",
            "        Return the inverse hyperbolic tangent of x.\n",
            "    \n",
            "    cbrt(x, /)\n",
            "        Return the cube root of x.\n",
            "    \n",
            "    ceil(x, /)\n",
            "        Return the ceiling of x as an Integral.\n",
            "        \n",
            "        This is the smallest integer >= x.\n",
            "    \n",
            "    comb(n, k, /)\n",
            "        Number of ways to choose k items from n items without repetition and without order.\n",
            "        \n",
            "        Evaluates to n! / (k! * (n - k)!) when k <= n and evaluates\n",
            "        to zero when k > n.\n",
            "        \n",
            "        Also called the binomial coefficient because it is equivalent\n",
            "        to the coefficient of k-th term in polynomial expansion of the\n",
            "        expression (1 + x)**n.\n",
            "        \n",
            "        Raises TypeError if either of the arguments are not integers.\n",
            "        Raises ValueError if either of the arguments are negative.\n",
            "    \n",
            "    copysign(x, y, /)\n",
            "        Return a float with the magnitude (absolute value) of x but the sign of y.\n",
            "        \n",
            "        On platforms that support signed zeros, copysign(1.0, -0.0)\n",
            "        returns -1.0.\n",
            "    \n",
            "    cos(x, /)\n",
            "        Return the cosine of x (measured in radians).\n",
            "    \n",
            "    cosh(x, /)\n",
            "        Return the hyperbolic cosine of x.\n",
            "    \n",
            "    degrees(x, /)\n",
            "        Convert angle x from radians to degrees.\n",
            "    \n",
            "    dist(p, q, /)\n",
            "        Return the Euclidean distance between two points p and q.\n",
            "        \n",
            "        The points should be specified as sequences (or iterables) of\n",
            "        coordinates.  Both inputs must have the same dimension.\n",
            "        \n",
            "        Roughly equivalent to:\n",
            "            sqrt(sum((px - qx) ** 2.0 for px, qx in zip(p, q)))\n",
            "    \n",
            "    erf(x, /)\n",
            "        Error function at x.\n",
            "    \n",
            "    erfc(x, /)\n",
            "        Complementary error function at x.\n",
            "    \n",
            "    exp(x, /)\n",
            "        Return e raised to the power of x.\n",
            "    \n",
            "    exp2(x, /)\n",
            "        Return 2 raised to the power of x.\n",
            "    \n",
            "    expm1(x, /)\n",
            "        Return exp(x)-1.\n",
            "        \n",
            "        This function avoids the loss of precision involved in the direct evaluation of exp(x)-1 for small x.\n",
            "    \n",
            "    fabs(x, /)\n",
            "        Return the absolute value of the float x.\n",
            "    \n",
            "    factorial(n, /)\n",
            "        Find n!.\n",
            "        \n",
            "        Raise a ValueError if x is negative or non-integral.\n",
            "    \n",
            "    floor(x, /)\n",
            "        Return the floor of x as an Integral.\n",
            "        \n",
            "        This is the largest integer <= x.\n",
            "    \n",
            "    fmod(x, y, /)\n",
            "        Return fmod(x, y), according to platform C.\n",
            "        \n",
            "        x % y may differ.\n",
            "    \n",
            "    frexp(x, /)\n",
            "        Return the mantissa and exponent of x, as pair (m, e).\n",
            "        \n",
            "        m is a float and e is an int, such that x = m * 2.**e.\n",
            "        If x is 0, m and e are both 0.  Else 0.5 <= abs(m) < 1.0.\n",
            "    \n",
            "    fsum(seq, /)\n",
            "        Return an accurate floating point sum of values in the iterable seq.\n",
            "        \n",
            "        Assumes IEEE-754 floating point arithmetic.\n",
            "    \n",
            "    gamma(x, /)\n",
            "        Gamma function at x.\n",
            "    \n",
            "    gcd(*integers)\n",
            "        Greatest Common Divisor.\n",
            "    \n",
            "    hypot(...)\n",
            "        hypot(*coordinates) -> value\n",
            "        \n",
            "        Multidimensional Euclidean distance from the origin to a point.\n",
            "        \n",
            "        Roughly equivalent to:\n",
            "            sqrt(sum(x**2 for x in coordinates))\n",
            "        \n",
            "        For a two dimensional point (x, y), gives the hypotenuse\n",
            "        using the Pythagorean theorem:  sqrt(x*x + y*y).\n",
            "        \n",
            "        For example, the hypotenuse of a 3/4/5 right triangle is:\n",
            "        \n",
            "            >>> hypot(3.0, 4.0)\n",
            "            5.0\n",
            "    \n",
            "    isclose(a, b, *, rel_tol=1e-09, abs_tol=0.0)\n",
            "        Determine whether two floating point numbers are close in value.\n",
            "        \n",
            "          rel_tol\n",
            "            maximum difference for being considered \"close\", relative to the\n",
            "            magnitude of the input values\n",
            "          abs_tol\n",
            "            maximum difference for being considered \"close\", regardless of the\n",
            "            magnitude of the input values\n",
            "        \n",
            "        Return True if a is close in value to b, and False otherwise.\n",
            "        \n",
            "        For the values to be considered close, the difference between them\n",
            "        must be smaller than at least one of the tolerances.\n",
            "        \n",
            "        -inf, inf and NaN behave similarly to the IEEE 754 Standard.  That\n",
            "        is, NaN is not close to anything, even itself.  inf and -inf are\n",
            "        only close to themselves.\n",
            "    \n",
            "    isfinite(x, /)\n",
            "        Return True if x is neither an infinity nor a NaN, and False otherwise.\n",
            "    \n",
            "    isinf(x, /)\n",
            "        Return True if x is a positive or negative infinity, and False otherwise.\n",
            "    \n",
            "    isnan(x, /)\n",
            "        Return True if x is a NaN (not a number), and False otherwise.\n",
            "    \n",
            "    isqrt(n, /)\n",
            "        Return the integer part of the square root of the input.\n",
            "    \n",
            "    lcm(*integers)\n",
            "        Least Common Multiple.\n",
            "    \n",
            "    ldexp(x, i, /)\n",
            "        Return x * (2**i).\n",
            "        \n",
            "        This is essentially the inverse of frexp().\n",
            "    \n",
            "    lgamma(x, /)\n",
            "        Natural logarithm of absolute value of Gamma function at x.\n",
            "    \n",
            "    log(...)\n",
            "        log(x, [base=math.e])\n",
            "        Return the logarithm of x to the given base.\n",
            "        \n",
            "        If the base not specified, returns the natural logarithm (base e) of x.\n",
            "    \n",
            "    log10(x, /)\n",
            "        Return the base 10 logarithm of x.\n",
            "    \n",
            "    log1p(x, /)\n",
            "        Return the natural logarithm of 1+x (base e).\n",
            "        \n",
            "        The result is computed in a way which is accurate for x near zero.\n",
            "    \n",
            "    log2(x, /)\n",
            "        Return the base 2 logarithm of x.\n",
            "    \n",
            "    modf(x, /)\n",
            "        Return the fractional and integer parts of x.\n",
            "        \n",
            "        Both results carry the sign of x and are floats.\n",
            "    \n",
            "    nextafter(x, y, /)\n",
            "        Return the next floating-point value after x towards y.\n",
            "    \n",
            "    perm(n, k=None, /)\n",
            "        Number of ways to choose k items from n items without repetition and with order.\n",
            "        \n",
            "        Evaluates to n! / (n - k)! when k <= n and evaluates\n",
            "        to zero when k > n.\n",
            "        \n",
            "        If k is not specified or is None, then k defaults to n\n",
            "        and the function returns n!.\n",
            "        \n",
            "        Raises TypeError if either of the arguments are not integers.\n",
            "        Raises ValueError if either of the arguments are negative.\n",
            "    \n",
            "    pow(x, y, /)\n",
            "        Return x**y (x to the power of y).\n",
            "    \n",
            "    prod(iterable, /, *, start=1)\n",
            "        Calculate the product of all the elements in the input iterable.\n",
            "        \n",
            "        The default start value for the product is 1.\n",
            "        \n",
            "        When the iterable is empty, return the start value.  This function is\n",
            "        intended specifically for use with numeric values and may reject\n",
            "        non-numeric types.\n",
            "    \n",
            "    radians(x, /)\n",
            "        Convert angle x from degrees to radians.\n",
            "    \n",
            "    remainder(x, y, /)\n",
            "        Difference between x and the closest integer multiple of y.\n",
            "        \n",
            "        Return x - n*y where n*y is the closest integer multiple of y.\n",
            "        In the case where x is exactly halfway between two multiples of\n",
            "        y, the nearest even value of n is used. The result is always exact.\n",
            "    \n",
            "    sin(x, /)\n",
            "        Return the sine of x (measured in radians).\n",
            "    \n",
            "    sinh(x, /)\n",
            "        Return the hyperbolic sine of x.\n",
            "    \n",
            "    sqrt(x, /)\n",
            "        Return the square root of x.\n",
            "    \n",
            "    tan(x, /)\n",
            "        Return the tangent of x (measured in radians).\n",
            "    \n",
            "    tanh(x, /)\n",
            "        Return the hyperbolic tangent of x.\n",
            "    \n",
            "    trunc(x, /)\n",
            "        Truncates the Real x to the nearest Integral toward 0.\n",
            "        \n",
            "        Uses the __trunc__ magic method.\n",
            "    \n",
            "    ulp(x, /)\n",
            "        Return the value of the least significant bit of the float x.\n",
            "\n",
            "DATA\n",
            "    e = 2.718281828459045\n",
            "    inf = inf\n",
            "    nan = nan\n",
            "    pi = 3.141592653589793\n",
            "    tau = 6.283185307179586\n",
            "\n",
            "FILE\n",
            "    (built-in)\n",
            "\n",
            "\n"
          ]
        },
        {
          "output_type": "display_data",
          "data": {
            "text/plain": [
              "\u001b[3;35mNone\u001b[0m\n"
            ],
            "text/html": [
              "<pre style=\"white-space:pre;overflow-x:auto;line-height:normal;font-family:Menlo,'DejaVu Sans Mono',consolas,'Courier New',monospace\"><span style=\"color: #800080; text-decoration-color: #800080; font-style: italic\">None</span>\n",
              "</pre>\n"
            ]
          },
          "metadata": {}
        }
      ]
    },
    {
      "cell_type": "markdown",
      "source": [
        "# This file covers all the main topics that are required to **Master Modern AI Python.**\n",
        "\n",
        "# Enjoy Learning 🍀\n",
        "\n"
      ],
      "metadata": {
        "id": "Cr54JFmFJ3E4"
      }
    }
  ]
}